{
 "cells": [
  {
   "cell_type": "markdown",
   "metadata": {},
   "source": [
    "## Loading data"
   ]
  },
  {
   "cell_type": "code",
   "execution_count": 1,
   "metadata": {},
   "outputs": [
    {
     "data": {
      "text/html": [
       "<div>\n",
       "<style scoped>\n",
       "    .dataframe tbody tr th:only-of-type {\n",
       "        vertical-align: middle;\n",
       "    }\n",
       "\n",
       "    .dataframe tbody tr th {\n",
       "        vertical-align: top;\n",
       "    }\n",
       "\n",
       "    .dataframe thead th {\n",
       "        text-align: right;\n",
       "    }\n",
       "</style>\n",
       "<table border=\"1\" class=\"dataframe\">\n",
       "  <thead>\n",
       "    <tr style=\"text-align: right;\">\n",
       "      <th></th>\n",
       "      <th>Unnamed: 0</th>\n",
       "      <th>artist</th>\n",
       "      <th>album</th>\n",
       "      <th>track_name</th>\n",
       "      <th>track_id</th>\n",
       "      <th>energy</th>\n",
       "      <th>danceability</th>\n",
       "      <th>key</th>\n",
       "      <th>loudness</th>\n",
       "      <th>acousticness</th>\n",
       "      <th>speechiness</th>\n",
       "      <th>instrumentalness</th>\n",
       "      <th>liveness</th>\n",
       "      <th>valence</th>\n",
       "      <th>tempo</th>\n",
       "      <th>duration_ms</th>\n",
       "      <th>genre</th>\n",
       "    </tr>\n",
       "  </thead>\n",
       "  <tbody>\n",
       "    <tr>\n",
       "      <th>0</th>\n",
       "      <td>0</td>\n",
       "      <td>The Weeknd</td>\n",
       "      <td>After Hours</td>\n",
       "      <td>Blinding Lights</td>\n",
       "      <td>0VjIjW4GlUZAMYd2vXMi3b</td>\n",
       "      <td>0.730</td>\n",
       "      <td>0.514</td>\n",
       "      <td>1</td>\n",
       "      <td>-5.934</td>\n",
       "      <td>0.00146</td>\n",
       "      <td>0.0598</td>\n",
       "      <td>0.000095</td>\n",
       "      <td>0.0897</td>\n",
       "      <td>0.334</td>\n",
       "      <td>171.005</td>\n",
       "      <td>200040</td>\n",
       "      <td>R&amp;B/Soul</td>\n",
       "    </tr>\n",
       "    <tr>\n",
       "      <th>1</th>\n",
       "      <td>1</td>\n",
       "      <td>Tones And I</td>\n",
       "      <td>Dance Monkey</td>\n",
       "      <td>Dance Monkey</td>\n",
       "      <td>1rgnBhdG2JDFTbYkYRZAku</td>\n",
       "      <td>0.593</td>\n",
       "      <td>0.825</td>\n",
       "      <td>6</td>\n",
       "      <td>-6.401</td>\n",
       "      <td>0.68800</td>\n",
       "      <td>0.0988</td>\n",
       "      <td>0.000161</td>\n",
       "      <td>0.1700</td>\n",
       "      <td>0.540</td>\n",
       "      <td>98.078</td>\n",
       "      <td>209755</td>\n",
       "      <td>Alternative/Indie</td>\n",
       "    </tr>\n",
       "    <tr>\n",
       "      <th>2</th>\n",
       "      <td>2</td>\n",
       "      <td>Roddy Ricch</td>\n",
       "      <td>Please Excuse Me For Being Antisocial</td>\n",
       "      <td>The Box</td>\n",
       "      <td>0nbXyq5TXYPCO7pr3N8S4I</td>\n",
       "      <td>0.586</td>\n",
       "      <td>0.896</td>\n",
       "      <td>10</td>\n",
       "      <td>-6.687</td>\n",
       "      <td>0.10400</td>\n",
       "      <td>0.0559</td>\n",
       "      <td>0.000000</td>\n",
       "      <td>0.7900</td>\n",
       "      <td>0.642</td>\n",
       "      <td>116.971</td>\n",
       "      <td>196653</td>\n",
       "      <td>Hip-Hop/Rap</td>\n",
       "    </tr>\n",
       "    <tr>\n",
       "      <th>3</th>\n",
       "      <td>3</td>\n",
       "      <td>SAINt JHN</td>\n",
       "      <td>Roses (Imanbek Remix)</td>\n",
       "      <td>Roses - Imanbek Remix</td>\n",
       "      <td>2Wo6QQD1KMDWeFkkjLqwx5</td>\n",
       "      <td>0.721</td>\n",
       "      <td>0.785</td>\n",
       "      <td>8</td>\n",
       "      <td>-5.457</td>\n",
       "      <td>0.01490</td>\n",
       "      <td>0.0506</td>\n",
       "      <td>0.004320</td>\n",
       "      <td>0.2850</td>\n",
       "      <td>0.894</td>\n",
       "      <td>121.962</td>\n",
       "      <td>176219</td>\n",
       "      <td>Dance/Electronic</td>\n",
       "    </tr>\n",
       "    <tr>\n",
       "      <th>4</th>\n",
       "      <td>4</td>\n",
       "      <td>Dua Lipa</td>\n",
       "      <td>Future Nostalgia</td>\n",
       "      <td>Don't Start Now</td>\n",
       "      <td>3PfIrDoz19wz7qK7tYeu62</td>\n",
       "      <td>0.793</td>\n",
       "      <td>0.793</td>\n",
       "      <td>11</td>\n",
       "      <td>-4.521</td>\n",
       "      <td>0.01230</td>\n",
       "      <td>0.0830</td>\n",
       "      <td>0.000000</td>\n",
       "      <td>0.0951</td>\n",
       "      <td>0.679</td>\n",
       "      <td>123.950</td>\n",
       "      <td>183290</td>\n",
       "      <td>Nu-disco</td>\n",
       "    </tr>\n",
       "  </tbody>\n",
       "</table>\n",
       "</div>"
      ],
      "text/plain": [
       "   Unnamed: 0       artist                                  album  \\\n",
       "0           0   The Weeknd                            After Hours   \n",
       "1           1  Tones And I                           Dance Monkey   \n",
       "2           2  Roddy Ricch  Please Excuse Me For Being Antisocial   \n",
       "3           3    SAINt JHN                  Roses (Imanbek Remix)   \n",
       "4           4     Dua Lipa                       Future Nostalgia   \n",
       "\n",
       "              track_name                track_id  energy  danceability  key  \\\n",
       "0        Blinding Lights  0VjIjW4GlUZAMYd2vXMi3b   0.730         0.514    1   \n",
       "1           Dance Monkey  1rgnBhdG2JDFTbYkYRZAku   0.593         0.825    6   \n",
       "2                The Box  0nbXyq5TXYPCO7pr3N8S4I   0.586         0.896   10   \n",
       "3  Roses - Imanbek Remix  2Wo6QQD1KMDWeFkkjLqwx5   0.721         0.785    8   \n",
       "4        Don't Start Now  3PfIrDoz19wz7qK7tYeu62   0.793         0.793   11   \n",
       "\n",
       "   loudness  acousticness  speechiness  instrumentalness  liveness  valence  \\\n",
       "0    -5.934       0.00146       0.0598          0.000095    0.0897    0.334   \n",
       "1    -6.401       0.68800       0.0988          0.000161    0.1700    0.540   \n",
       "2    -6.687       0.10400       0.0559          0.000000    0.7900    0.642   \n",
       "3    -5.457       0.01490       0.0506          0.004320    0.2850    0.894   \n",
       "4    -4.521       0.01230       0.0830          0.000000    0.0951    0.679   \n",
       "\n",
       "     tempo  duration_ms              genre  \n",
       "0  171.005       200040           R&B/Soul  \n",
       "1   98.078       209755  Alternative/Indie  \n",
       "2  116.971       196653        Hip-Hop/Rap  \n",
       "3  121.962       176219   Dance/Electronic  \n",
       "4  123.950       183290           Nu-disco  "
      ]
     },
     "execution_count": 1,
     "metadata": {},
     "output_type": "execute_result"
    }
   ],
   "source": [
    "import pandas as pd\n",
    "import numpy as np\n",
    "import matplotlib.pyplot as plt\n",
    "import seaborn as sns\n",
    "\n",
    "spot_tracks = pd.read_csv(\"../../../assets/data/spot_tracks_20.csv\")\n",
    "spot_tracks.head()"
   ]
  },
  {
   "cell_type": "markdown",
   "metadata": {},
   "source": [
    "### Code checking using pycodestyle_magic"
   ]
  },
  {
   "cell_type": "code",
   "execution_count": 2,
   "metadata": {},
   "outputs": [],
   "source": [
    "%load_ext pycodestyle_magic\n",
    "%pycodestyle_on\n",
    "%flake8_on\n",
    "%flake8_on --max_line_length 79"
   ]
  },
  {
   "cell_type": "markdown",
   "metadata": {},
   "source": [
    "### Basic dataset check"
   ]
  },
  {
   "cell_type": "code",
   "execution_count": 3,
   "metadata": {},
   "outputs": [
    {
     "name": "stdout",
     "output_type": "stream",
     "text": [
      "Index(['Unnamed: 0', 'artist', 'album', 'track_name', 'track_id', 'energy',\n",
      "       'danceability', 'key', 'loudness', 'acousticness', 'speechiness',\n",
      "       'instrumentalness', 'liveness', 'valence', 'tempo', 'duration_ms',\n",
      "       'genre'],\n",
      "      dtype='object')\n"
     ]
    }
   ],
   "source": [
    "# Check dataframe columns\n",
    "print(spot_tracks.columns)"
   ]
  },
  {
   "cell_type": "code",
   "execution_count": 4,
   "metadata": {},
   "outputs": [
    {
     "name": "stdout",
     "output_type": "stream",
     "text": [
      "(50, 17)\n"
     ]
    }
   ],
   "source": [
    "# Check dataframe shape\n",
    "print(spot_tracks.shape)"
   ]
  },
  {
   "cell_type": "code",
   "execution_count": 5,
   "metadata": {},
   "outputs": [
    {
     "data": {
      "text/html": [
       "<div>\n",
       "<style scoped>\n",
       "    .dataframe tbody tr th:only-of-type {\n",
       "        vertical-align: middle;\n",
       "    }\n",
       "\n",
       "    .dataframe tbody tr th {\n",
       "        vertical-align: top;\n",
       "    }\n",
       "\n",
       "    .dataframe thead th {\n",
       "        text-align: right;\n",
       "    }\n",
       "</style>\n",
       "<table border=\"1\" class=\"dataframe\">\n",
       "  <thead>\n",
       "    <tr style=\"text-align: right;\">\n",
       "      <th></th>\n",
       "      <th>Unnamed: 0</th>\n",
       "      <th>energy</th>\n",
       "      <th>danceability</th>\n",
       "      <th>key</th>\n",
       "      <th>loudness</th>\n",
       "      <th>acousticness</th>\n",
       "      <th>speechiness</th>\n",
       "      <th>instrumentalness</th>\n",
       "      <th>liveness</th>\n",
       "      <th>valence</th>\n",
       "      <th>tempo</th>\n",
       "      <th>duration_ms</th>\n",
       "    </tr>\n",
       "  </thead>\n",
       "  <tbody>\n",
       "    <tr>\n",
       "      <th>count</th>\n",
       "      <td>50.00000</td>\n",
       "      <td>50.000000</td>\n",
       "      <td>50.000000</td>\n",
       "      <td>50.000000</td>\n",
       "      <td>50.000000</td>\n",
       "      <td>50.000000</td>\n",
       "      <td>50.000000</td>\n",
       "      <td>50.000000</td>\n",
       "      <td>50.000000</td>\n",
       "      <td>50.000000</td>\n",
       "      <td>50.000000</td>\n",
       "      <td>50.000000</td>\n",
       "    </tr>\n",
       "    <tr>\n",
       "      <th>mean</th>\n",
       "      <td>24.50000</td>\n",
       "      <td>0.609300</td>\n",
       "      <td>0.716720</td>\n",
       "      <td>5.720000</td>\n",
       "      <td>-6.225900</td>\n",
       "      <td>0.256206</td>\n",
       "      <td>0.124158</td>\n",
       "      <td>0.015962</td>\n",
       "      <td>0.196552</td>\n",
       "      <td>0.555710</td>\n",
       "      <td>119.690460</td>\n",
       "      <td>199955.360000</td>\n",
       "    </tr>\n",
       "    <tr>\n",
       "      <th>std</th>\n",
       "      <td>14.57738</td>\n",
       "      <td>0.154348</td>\n",
       "      <td>0.124975</td>\n",
       "      <td>3.709007</td>\n",
       "      <td>2.349744</td>\n",
       "      <td>0.265250</td>\n",
       "      <td>0.116836</td>\n",
       "      <td>0.094312</td>\n",
       "      <td>0.176610</td>\n",
       "      <td>0.216386</td>\n",
       "      <td>25.414778</td>\n",
       "      <td>33996.122488</td>\n",
       "    </tr>\n",
       "    <tr>\n",
       "      <th>min</th>\n",
       "      <td>0.00000</td>\n",
       "      <td>0.225000</td>\n",
       "      <td>0.351000</td>\n",
       "      <td>0.000000</td>\n",
       "      <td>-14.454000</td>\n",
       "      <td>0.001460</td>\n",
       "      <td>0.029000</td>\n",
       "      <td>0.000000</td>\n",
       "      <td>0.057400</td>\n",
       "      <td>0.060500</td>\n",
       "      <td>75.801000</td>\n",
       "      <td>140526.000000</td>\n",
       "    </tr>\n",
       "    <tr>\n",
       "      <th>25%</th>\n",
       "      <td>12.25000</td>\n",
       "      <td>0.494000</td>\n",
       "      <td>0.672500</td>\n",
       "      <td>2.000000</td>\n",
       "      <td>-7.552500</td>\n",
       "      <td>0.052800</td>\n",
       "      <td>0.048325</td>\n",
       "      <td>0.000000</td>\n",
       "      <td>0.093950</td>\n",
       "      <td>0.434000</td>\n",
       "      <td>99.557250</td>\n",
       "      <td>175845.500000</td>\n",
       "    </tr>\n",
       "    <tr>\n",
       "      <th>50%</th>\n",
       "      <td>24.50000</td>\n",
       "      <td>0.597000</td>\n",
       "      <td>0.746000</td>\n",
       "      <td>6.500000</td>\n",
       "      <td>-5.991500</td>\n",
       "      <td>0.188500</td>\n",
       "      <td>0.070050</td>\n",
       "      <td>0.000000</td>\n",
       "      <td>0.111000</td>\n",
       "      <td>0.560000</td>\n",
       "      <td>116.969000</td>\n",
       "      <td>197853.500000</td>\n",
       "    </tr>\n",
       "    <tr>\n",
       "      <th>75%</th>\n",
       "      <td>36.75000</td>\n",
       "      <td>0.729750</td>\n",
       "      <td>0.794500</td>\n",
       "      <td>8.750000</td>\n",
       "      <td>-4.285500</td>\n",
       "      <td>0.298750</td>\n",
       "      <td>0.155500</td>\n",
       "      <td>0.000020</td>\n",
       "      <td>0.271250</td>\n",
       "      <td>0.726250</td>\n",
       "      <td>132.317000</td>\n",
       "      <td>215064.000000</td>\n",
       "    </tr>\n",
       "    <tr>\n",
       "      <th>max</th>\n",
       "      <td>49.00000</td>\n",
       "      <td>0.855000</td>\n",
       "      <td>0.935000</td>\n",
       "      <td>11.000000</td>\n",
       "      <td>-3.280000</td>\n",
       "      <td>0.934000</td>\n",
       "      <td>0.487000</td>\n",
       "      <td>0.657000</td>\n",
       "      <td>0.792000</td>\n",
       "      <td>0.925000</td>\n",
       "      <td>180.067000</td>\n",
       "      <td>312820.000000</td>\n",
       "    </tr>\n",
       "  </tbody>\n",
       "</table>\n",
       "</div>"
      ],
      "text/plain": [
       "       Unnamed: 0     energy  danceability        key   loudness  \\\n",
       "count    50.00000  50.000000     50.000000  50.000000  50.000000   \n",
       "mean     24.50000   0.609300      0.716720   5.720000  -6.225900   \n",
       "std      14.57738   0.154348      0.124975   3.709007   2.349744   \n",
       "min       0.00000   0.225000      0.351000   0.000000 -14.454000   \n",
       "25%      12.25000   0.494000      0.672500   2.000000  -7.552500   \n",
       "50%      24.50000   0.597000      0.746000   6.500000  -5.991500   \n",
       "75%      36.75000   0.729750      0.794500   8.750000  -4.285500   \n",
       "max      49.00000   0.855000      0.935000  11.000000  -3.280000   \n",
       "\n",
       "       acousticness  speechiness  instrumentalness   liveness    valence  \\\n",
       "count     50.000000    50.000000         50.000000  50.000000  50.000000   \n",
       "mean       0.256206     0.124158          0.015962   0.196552   0.555710   \n",
       "std        0.265250     0.116836          0.094312   0.176610   0.216386   \n",
       "min        0.001460     0.029000          0.000000   0.057400   0.060500   \n",
       "25%        0.052800     0.048325          0.000000   0.093950   0.434000   \n",
       "50%        0.188500     0.070050          0.000000   0.111000   0.560000   \n",
       "75%        0.298750     0.155500          0.000020   0.271250   0.726250   \n",
       "max        0.934000     0.487000          0.657000   0.792000   0.925000   \n",
       "\n",
       "            tempo    duration_ms  \n",
       "count   50.000000      50.000000  \n",
       "mean   119.690460  199955.360000  \n",
       "std     25.414778   33996.122488  \n",
       "min     75.801000  140526.000000  \n",
       "25%     99.557250  175845.500000  \n",
       "50%    116.969000  197853.500000  \n",
       "75%    132.317000  215064.000000  \n",
       "max    180.067000  312820.000000  "
      ]
     },
     "execution_count": 5,
     "metadata": {},
     "output_type": "execute_result"
    }
   ],
   "source": [
    "spot_tracks.describe()"
   ]
  },
  {
   "cell_type": "markdown",
   "metadata": {},
   "source": [
    "## Data cleansing"
   ]
  },
  {
   "cell_type": "markdown",
   "metadata": {},
   "source": [
    "### Dropping 'Unnamed: 0' column"
   ]
  },
  {
   "cell_type": "code",
   "execution_count": 6,
   "metadata": {},
   "outputs": [
    {
     "data": {
      "text/html": [
       "<div>\n",
       "<style scoped>\n",
       "    .dataframe tbody tr th:only-of-type {\n",
       "        vertical-align: middle;\n",
       "    }\n",
       "\n",
       "    .dataframe tbody tr th {\n",
       "        vertical-align: top;\n",
       "    }\n",
       "\n",
       "    .dataframe thead th {\n",
       "        text-align: right;\n",
       "    }\n",
       "</style>\n",
       "<table border=\"1\" class=\"dataframe\">\n",
       "  <thead>\n",
       "    <tr style=\"text-align: right;\">\n",
       "      <th></th>\n",
       "      <th>artist</th>\n",
       "      <th>album</th>\n",
       "      <th>track_name</th>\n",
       "      <th>track_id</th>\n",
       "      <th>energy</th>\n",
       "      <th>danceability</th>\n",
       "      <th>key</th>\n",
       "      <th>loudness</th>\n",
       "      <th>acousticness</th>\n",
       "      <th>speechiness</th>\n",
       "      <th>instrumentalness</th>\n",
       "      <th>liveness</th>\n",
       "      <th>valence</th>\n",
       "      <th>tempo</th>\n",
       "      <th>duration_ms</th>\n",
       "      <th>genre</th>\n",
       "    </tr>\n",
       "  </thead>\n",
       "  <tbody>\n",
       "    <tr>\n",
       "      <th>0</th>\n",
       "      <td>The Weeknd</td>\n",
       "      <td>After Hours</td>\n",
       "      <td>Blinding Lights</td>\n",
       "      <td>0VjIjW4GlUZAMYd2vXMi3b</td>\n",
       "      <td>0.730</td>\n",
       "      <td>0.514</td>\n",
       "      <td>1</td>\n",
       "      <td>-5.934</td>\n",
       "      <td>0.00146</td>\n",
       "      <td>0.0598</td>\n",
       "      <td>0.000095</td>\n",
       "      <td>0.0897</td>\n",
       "      <td>0.334</td>\n",
       "      <td>171.005</td>\n",
       "      <td>200040</td>\n",
       "      <td>R&amp;B/Soul</td>\n",
       "    </tr>\n",
       "    <tr>\n",
       "      <th>1</th>\n",
       "      <td>Tones And I</td>\n",
       "      <td>Dance Monkey</td>\n",
       "      <td>Dance Monkey</td>\n",
       "      <td>1rgnBhdG2JDFTbYkYRZAku</td>\n",
       "      <td>0.593</td>\n",
       "      <td>0.825</td>\n",
       "      <td>6</td>\n",
       "      <td>-6.401</td>\n",
       "      <td>0.68800</td>\n",
       "      <td>0.0988</td>\n",
       "      <td>0.000161</td>\n",
       "      <td>0.1700</td>\n",
       "      <td>0.540</td>\n",
       "      <td>98.078</td>\n",
       "      <td>209755</td>\n",
       "      <td>Alternative/Indie</td>\n",
       "    </tr>\n",
       "    <tr>\n",
       "      <th>2</th>\n",
       "      <td>Roddy Ricch</td>\n",
       "      <td>Please Excuse Me For Being Antisocial</td>\n",
       "      <td>The Box</td>\n",
       "      <td>0nbXyq5TXYPCO7pr3N8S4I</td>\n",
       "      <td>0.586</td>\n",
       "      <td>0.896</td>\n",
       "      <td>10</td>\n",
       "      <td>-6.687</td>\n",
       "      <td>0.10400</td>\n",
       "      <td>0.0559</td>\n",
       "      <td>0.000000</td>\n",
       "      <td>0.7900</td>\n",
       "      <td>0.642</td>\n",
       "      <td>116.971</td>\n",
       "      <td>196653</td>\n",
       "      <td>Hip-Hop/Rap</td>\n",
       "    </tr>\n",
       "    <tr>\n",
       "      <th>3</th>\n",
       "      <td>SAINt JHN</td>\n",
       "      <td>Roses (Imanbek Remix)</td>\n",
       "      <td>Roses - Imanbek Remix</td>\n",
       "      <td>2Wo6QQD1KMDWeFkkjLqwx5</td>\n",
       "      <td>0.721</td>\n",
       "      <td>0.785</td>\n",
       "      <td>8</td>\n",
       "      <td>-5.457</td>\n",
       "      <td>0.01490</td>\n",
       "      <td>0.0506</td>\n",
       "      <td>0.004320</td>\n",
       "      <td>0.2850</td>\n",
       "      <td>0.894</td>\n",
       "      <td>121.962</td>\n",
       "      <td>176219</td>\n",
       "      <td>Dance/Electronic</td>\n",
       "    </tr>\n",
       "    <tr>\n",
       "      <th>4</th>\n",
       "      <td>Dua Lipa</td>\n",
       "      <td>Future Nostalgia</td>\n",
       "      <td>Don't Start Now</td>\n",
       "      <td>3PfIrDoz19wz7qK7tYeu62</td>\n",
       "      <td>0.793</td>\n",
       "      <td>0.793</td>\n",
       "      <td>11</td>\n",
       "      <td>-4.521</td>\n",
       "      <td>0.01230</td>\n",
       "      <td>0.0830</td>\n",
       "      <td>0.000000</td>\n",
       "      <td>0.0951</td>\n",
       "      <td>0.679</td>\n",
       "      <td>123.950</td>\n",
       "      <td>183290</td>\n",
       "      <td>Nu-disco</td>\n",
       "    </tr>\n",
       "  </tbody>\n",
       "</table>\n",
       "</div>"
      ],
      "text/plain": [
       "        artist                                  album             track_name  \\\n",
       "0   The Weeknd                            After Hours        Blinding Lights   \n",
       "1  Tones And I                           Dance Monkey           Dance Monkey   \n",
       "2  Roddy Ricch  Please Excuse Me For Being Antisocial                The Box   \n",
       "3    SAINt JHN                  Roses (Imanbek Remix)  Roses - Imanbek Remix   \n",
       "4     Dua Lipa                       Future Nostalgia        Don't Start Now   \n",
       "\n",
       "                 track_id  energy  danceability  key  loudness  acousticness  \\\n",
       "0  0VjIjW4GlUZAMYd2vXMi3b   0.730         0.514    1    -5.934       0.00146   \n",
       "1  1rgnBhdG2JDFTbYkYRZAku   0.593         0.825    6    -6.401       0.68800   \n",
       "2  0nbXyq5TXYPCO7pr3N8S4I   0.586         0.896   10    -6.687       0.10400   \n",
       "3  2Wo6QQD1KMDWeFkkjLqwx5   0.721         0.785    8    -5.457       0.01490   \n",
       "4  3PfIrDoz19wz7qK7tYeu62   0.793         0.793   11    -4.521       0.01230   \n",
       "\n",
       "   speechiness  instrumentalness  liveness  valence    tempo  duration_ms  \\\n",
       "0       0.0598          0.000095    0.0897    0.334  171.005       200040   \n",
       "1       0.0988          0.000161    0.1700    0.540   98.078       209755   \n",
       "2       0.0559          0.000000    0.7900    0.642  116.971       196653   \n",
       "3       0.0506          0.004320    0.2850    0.894  121.962       176219   \n",
       "4       0.0830          0.000000    0.0951    0.679  123.950       183290   \n",
       "\n",
       "               genre  \n",
       "0           R&B/Soul  \n",
       "1  Alternative/Indie  \n",
       "2        Hip-Hop/Rap  \n",
       "3   Dance/Electronic  \n",
       "4           Nu-disco  "
      ]
     },
     "execution_count": 6,
     "metadata": {},
     "output_type": "execute_result"
    }
   ],
   "source": [
    "spot_tracks = spot_tracks.drop([\"Unnamed: 0\"], axis=1)\n",
    "spot_tracks.head()"
   ]
  },
  {
   "cell_type": "code",
   "execution_count": 7,
   "metadata": {},
   "outputs": [
    {
     "name": "stdout",
     "output_type": "stream",
     "text": [
      "Index(['artist', 'album', 'track_name', 'track_id', 'energy', 'danceability',\n",
      "       'key', 'loudness', 'acousticness', 'speechiness', 'instrumentalness',\n",
      "       'liveness', 'valence', 'tempo', 'duration_ms', 'genre'],\n",
      "      dtype='object')\n",
      "Updated number of features (columns):  16\n"
     ]
    }
   ],
   "source": [
    "print(spot_tracks.columns.unique())\n",
    "print(\"Updated number of features (columns): \", spot_tracks.shape[1])"
   ]
  },
  {
   "cell_type": "markdown",
   "metadata": {},
   "source": [
    "### Key feature\n",
    "\n",
    "Since key feature in this dataframe is likely representing the key of musical composition, it is better to convert it to a string type."
   ]
  },
  {
   "cell_type": "code",
   "execution_count": 8,
   "metadata": {},
   "outputs": [
    {
     "name": "stdout",
     "output_type": "stream",
     "text": [
      "0    C#/Db\n",
      "1    F#/Gb\n",
      "2    A#/Bb\n",
      "3    G#/Ab\n",
      "4        B\n",
      "Name: key, dtype: object\n"
     ]
    }
   ],
   "source": [
    "# Define the mapping dictionary\n",
    "key_mapping = {\n",
    "    0: 'C',\n",
    "    1: 'C#/Db',\n",
    "    2: 'D',\n",
    "    3: 'D#/Eb',\n",
    "    4: 'E',\n",
    "    5: 'F',\n",
    "    6: 'F#/Gb',\n",
    "    7: 'G',\n",
    "    8: 'G#/Ab',\n",
    "    9: 'A',\n",
    "    10: 'A#/Bb',\n",
    "    11: 'B'\n",
    "}\n",
    "\n",
    "# Map the 'key' column using the mapping dictionary\n",
    "spot_tracks['key'] = spot_tracks['key'].map(key_mapping)\n",
    "\n",
    "# Print the first few rows to verify the mapping\n",
    "print(spot_tracks['key'].head())"
   ]
  },
  {
   "cell_type": "code",
   "execution_count": 9,
   "metadata": {},
   "outputs": [
    {
     "data": {
      "text/html": [
       "<div>\n",
       "<style scoped>\n",
       "    .dataframe tbody tr th:only-of-type {\n",
       "        vertical-align: middle;\n",
       "    }\n",
       "\n",
       "    .dataframe tbody tr th {\n",
       "        vertical-align: top;\n",
       "    }\n",
       "\n",
       "    .dataframe thead th {\n",
       "        text-align: right;\n",
       "    }\n",
       "</style>\n",
       "<table border=\"1\" class=\"dataframe\">\n",
       "  <thead>\n",
       "    <tr style=\"text-align: right;\">\n",
       "      <th></th>\n",
       "      <th>artist</th>\n",
       "      <th>album</th>\n",
       "      <th>track_name</th>\n",
       "      <th>track_id</th>\n",
       "      <th>energy</th>\n",
       "      <th>danceability</th>\n",
       "      <th>key</th>\n",
       "      <th>loudness</th>\n",
       "      <th>acousticness</th>\n",
       "      <th>speechiness</th>\n",
       "      <th>instrumentalness</th>\n",
       "      <th>liveness</th>\n",
       "      <th>valence</th>\n",
       "      <th>tempo</th>\n",
       "      <th>duration_ms</th>\n",
       "      <th>genre</th>\n",
       "    </tr>\n",
       "  </thead>\n",
       "  <tbody>\n",
       "    <tr>\n",
       "      <th>0</th>\n",
       "      <td>The Weeknd</td>\n",
       "      <td>After Hours</td>\n",
       "      <td>Blinding Lights</td>\n",
       "      <td>0VjIjW4GlUZAMYd2vXMi3b</td>\n",
       "      <td>0.730</td>\n",
       "      <td>0.514</td>\n",
       "      <td>C#/Db</td>\n",
       "      <td>-5.934</td>\n",
       "      <td>0.00146</td>\n",
       "      <td>0.0598</td>\n",
       "      <td>0.000095</td>\n",
       "      <td>0.0897</td>\n",
       "      <td>0.334</td>\n",
       "      <td>171.005</td>\n",
       "      <td>200040</td>\n",
       "      <td>R&amp;B/Soul</td>\n",
       "    </tr>\n",
       "    <tr>\n",
       "      <th>1</th>\n",
       "      <td>Tones And I</td>\n",
       "      <td>Dance Monkey</td>\n",
       "      <td>Dance Monkey</td>\n",
       "      <td>1rgnBhdG2JDFTbYkYRZAku</td>\n",
       "      <td>0.593</td>\n",
       "      <td>0.825</td>\n",
       "      <td>F#/Gb</td>\n",
       "      <td>-6.401</td>\n",
       "      <td>0.68800</td>\n",
       "      <td>0.0988</td>\n",
       "      <td>0.000161</td>\n",
       "      <td>0.1700</td>\n",
       "      <td>0.540</td>\n",
       "      <td>98.078</td>\n",
       "      <td>209755</td>\n",
       "      <td>Alternative/Indie</td>\n",
       "    </tr>\n",
       "    <tr>\n",
       "      <th>2</th>\n",
       "      <td>Roddy Ricch</td>\n",
       "      <td>Please Excuse Me For Being Antisocial</td>\n",
       "      <td>The Box</td>\n",
       "      <td>0nbXyq5TXYPCO7pr3N8S4I</td>\n",
       "      <td>0.586</td>\n",
       "      <td>0.896</td>\n",
       "      <td>A#/Bb</td>\n",
       "      <td>-6.687</td>\n",
       "      <td>0.10400</td>\n",
       "      <td>0.0559</td>\n",
       "      <td>0.000000</td>\n",
       "      <td>0.7900</td>\n",
       "      <td>0.642</td>\n",
       "      <td>116.971</td>\n",
       "      <td>196653</td>\n",
       "      <td>Hip-Hop/Rap</td>\n",
       "    </tr>\n",
       "    <tr>\n",
       "      <th>3</th>\n",
       "      <td>SAINt JHN</td>\n",
       "      <td>Roses (Imanbek Remix)</td>\n",
       "      <td>Roses - Imanbek Remix</td>\n",
       "      <td>2Wo6QQD1KMDWeFkkjLqwx5</td>\n",
       "      <td>0.721</td>\n",
       "      <td>0.785</td>\n",
       "      <td>G#/Ab</td>\n",
       "      <td>-5.457</td>\n",
       "      <td>0.01490</td>\n",
       "      <td>0.0506</td>\n",
       "      <td>0.004320</td>\n",
       "      <td>0.2850</td>\n",
       "      <td>0.894</td>\n",
       "      <td>121.962</td>\n",
       "      <td>176219</td>\n",
       "      <td>Dance/Electronic</td>\n",
       "    </tr>\n",
       "    <tr>\n",
       "      <th>4</th>\n",
       "      <td>Dua Lipa</td>\n",
       "      <td>Future Nostalgia</td>\n",
       "      <td>Don't Start Now</td>\n",
       "      <td>3PfIrDoz19wz7qK7tYeu62</td>\n",
       "      <td>0.793</td>\n",
       "      <td>0.793</td>\n",
       "      <td>B</td>\n",
       "      <td>-4.521</td>\n",
       "      <td>0.01230</td>\n",
       "      <td>0.0830</td>\n",
       "      <td>0.000000</td>\n",
       "      <td>0.0951</td>\n",
       "      <td>0.679</td>\n",
       "      <td>123.950</td>\n",
       "      <td>183290</td>\n",
       "      <td>Nu-disco</td>\n",
       "    </tr>\n",
       "  </tbody>\n",
       "</table>\n",
       "</div>"
      ],
      "text/plain": [
       "        artist                                  album             track_name  \\\n",
       "0   The Weeknd                            After Hours        Blinding Lights   \n",
       "1  Tones And I                           Dance Monkey           Dance Monkey   \n",
       "2  Roddy Ricch  Please Excuse Me For Being Antisocial                The Box   \n",
       "3    SAINt JHN                  Roses (Imanbek Remix)  Roses - Imanbek Remix   \n",
       "4     Dua Lipa                       Future Nostalgia        Don't Start Now   \n",
       "\n",
       "                 track_id  energy  danceability    key  loudness  \\\n",
       "0  0VjIjW4GlUZAMYd2vXMi3b   0.730         0.514  C#/Db    -5.934   \n",
       "1  1rgnBhdG2JDFTbYkYRZAku   0.593         0.825  F#/Gb    -6.401   \n",
       "2  0nbXyq5TXYPCO7pr3N8S4I   0.586         0.896  A#/Bb    -6.687   \n",
       "3  2Wo6QQD1KMDWeFkkjLqwx5   0.721         0.785  G#/Ab    -5.457   \n",
       "4  3PfIrDoz19wz7qK7tYeu62   0.793         0.793      B    -4.521   \n",
       "\n",
       "   acousticness  speechiness  instrumentalness  liveness  valence    tempo  \\\n",
       "0       0.00146       0.0598          0.000095    0.0897    0.334  171.005   \n",
       "1       0.68800       0.0988          0.000161    0.1700    0.540   98.078   \n",
       "2       0.10400       0.0559          0.000000    0.7900    0.642  116.971   \n",
       "3       0.01490       0.0506          0.004320    0.2850    0.894  121.962   \n",
       "4       0.01230       0.0830          0.000000    0.0951    0.679  123.950   \n",
       "\n",
       "   duration_ms              genre  \n",
       "0       200040           R&B/Soul  \n",
       "1       209755  Alternative/Indie  \n",
       "2       196653        Hip-Hop/Rap  \n",
       "3       176219   Dance/Electronic  \n",
       "4       183290           Nu-disco  "
      ]
     },
     "execution_count": 9,
     "metadata": {},
     "output_type": "execute_result"
    }
   ],
   "source": [
    "spot_tracks.head()"
   ]
  },
  {
   "cell_type": "code",
   "execution_count": 10,
   "metadata": {},
   "outputs": [
    {
     "name": "stdout",
     "output_type": "stream",
     "text": [
      "Missing Values:\n",
      "artist              0\n",
      "album               0\n",
      "track_name          0\n",
      "track_id            0\n",
      "energy              0\n",
      "danceability        0\n",
      "key                 0\n",
      "loudness            0\n",
      "acousticness        0\n",
      "speechiness         0\n",
      "instrumentalness    0\n",
      "liveness            0\n",
      "valence             0\n",
      "tempo               0\n",
      "duration_ms         0\n",
      "genre               0\n",
      "dtype: int64\n"
     ]
    }
   ],
   "source": [
    "# Check for missing values by columns\n",
    "missing_values = spot_tracks.isnull().sum()\n",
    "print(\"Missing Values:\")\n",
    "print(missing_values)"
   ]
  },
  {
   "cell_type": "code",
   "execution_count": 11,
   "metadata": {},
   "outputs": [
    {
     "name": "stdout",
     "output_type": "stream",
     "text": [
      "Duplicate Samples:\n",
      "Empty DataFrame\n",
      "Columns: [artist, album, track_name, track_id, energy, danceability, key, loudness, acousticness, speechiness, instrumentalness, liveness, valence, tempo, duration_ms, genre]\n",
      "Index: []\n"
     ]
    }
   ],
   "source": [
    "# Check for duplicate rows (samples)\n",
    "duplicate_samples = spot_tracks[spot_tracks.duplicated()]\n",
    "print(\"Duplicate Samples:\")\n",
    "print(duplicate_samples)"
   ]
  },
  {
   "cell_type": "code",
   "execution_count": 12,
   "metadata": {},
   "outputs": [
    {
     "name": "stdout",
     "output_type": "stream",
     "text": [
      "Duplicate Features:\n",
      "Index([], dtype='object')\n"
     ]
    }
   ],
   "source": [
    "# Check for duplicate columns (features)\n",
    "duplicate_features = spot_tracks.columns[spot_tracks.columns.duplicated()]\n",
    "print(\"Duplicate Features:\")\n",
    "print(duplicate_features)"
   ]
  },
  {
   "cell_type": "markdown",
   "metadata": {},
   "source": [
    "### How many observations are there in this dataset?"
   ]
  },
  {
   "cell_type": "code",
   "execution_count": 13,
   "metadata": {},
   "outputs": [
    {
     "name": "stdout",
     "output_type": "stream",
     "text": [
      "Number of observations: 50\n"
     ]
    }
   ],
   "source": [
    "# Using shape() method to get the amount of rows (axis 0) are in the dataset\n",
    "num_observations = spot_tracks.shape[0]\n",
    "print(\"Number of observations:\", num_observations)"
   ]
  },
  {
   "cell_type": "markdown",
   "metadata": {},
   "source": [
    "### How many features this dataset has?"
   ]
  },
  {
   "cell_type": "code",
   "execution_count": 14,
   "metadata": {},
   "outputs": [
    {
     "name": "stdout",
     "output_type": "stream",
     "text": [
      "Number of features: 16\n"
     ]
    }
   ],
   "source": [
    "# Using shape() method to get the amount of columns (axis 1) are in the dataset\n",
    "num_features = spot_tracks.shape[1]\n",
    "print(\"Number of features:\", num_features)"
   ]
  },
  {
   "cell_type": "markdown",
   "metadata": {},
   "source": [
    "### Checking all columns data types"
   ]
  },
  {
   "cell_type": "code",
   "execution_count": 15,
   "metadata": {},
   "outputs": [
    {
     "name": "stdout",
     "output_type": "stream",
     "text": [
      "Data types of each column:\n",
      "artist               object\n",
      "album                object\n",
      "track_name           object\n",
      "track_id             object\n",
      "energy              float64\n",
      "danceability        float64\n",
      "key                  object\n",
      "loudness            float64\n",
      "acousticness        float64\n",
      "speechiness         float64\n",
      "instrumentalness    float64\n",
      "liveness            float64\n",
      "valence             float64\n",
      "tempo               float64\n",
      "duration_ms           int64\n",
      "genre                object\n",
      "dtype: object\n"
     ]
    }
   ],
   "source": [
    "column_dtypes = spot_tracks.dtypes\n",
    "print(\"Data types of each column:\")\n",
    "print(column_dtypes)"
   ]
  },
  {
   "cell_type": "markdown",
   "metadata": {},
   "source": [
    "The script below can be used to uniform features data types. In this case, we can observe the column 'duration_ms' have the data type as *int* as the other ones are *float*.\n",
    "\n",
    "I decided to not change it since I think it would not be necessary for this analysis."
   ]
  },
  {
   "cell_type": "code",
   "execution_count": null,
   "metadata": {},
   "outputs": [],
   "source": [
    "# Uniforming columns key and duration_ms types to float\n",
    "# spot_tracks['duration_ms'] = spot_tracks['duration_ms'].astype(int)\n",
    "# print(spot_tracks['duration_ms'].dtype)"
   ]
  },
  {
   "cell_type": "markdown",
   "metadata": {},
   "source": [
    "### Which of the features are categorical?"
   ]
  },
  {
   "cell_type": "markdown",
   "metadata": {},
   "source": [
    "Columns with data type 'object' often represents strings or categorical variables. Therefore this analysis takes the data type *'object'* to determine the ones that are categorical."
   ]
  },
  {
   "cell_type": "code",
   "execution_count": 16,
   "metadata": {},
   "outputs": [
    {
     "name": "stdout",
     "output_type": "stream",
     "text": [
      "Categorical Features: ['artist', 'album', 'track_name', 'track_id', 'key', 'genre']\n"
     ]
    }
   ],
   "source": [
    "categorical_features = (\n",
    "    spot_tracks.select_dtypes(include=[\"object\"])\n",
    "    .columns.tolist()\n",
    ")\n",
    "print(\"Categorical Features:\", categorical_features)"
   ]
  },
  {
   "cell_type": "markdown",
   "metadata": {},
   "source": [
    "### Which of the features are numeric?"
   ]
  },
  {
   "cell_type": "markdown",
   "metadata": {},
   "source": [
    "The other way around, the data type *'int'* and *'float'* are used to determine the numeric features. Here, we select the data types, by excluding the *'object'* ones."
   ]
  },
  {
   "cell_type": "code",
   "execution_count": 17,
   "metadata": {},
   "outputs": [
    {
     "name": "stdout",
     "output_type": "stream",
     "text": [
      "Categorical Features: ['energy', 'danceability', 'loudness', 'acousticness', 'speechiness', 'instrumentalness', 'liveness', 'valence', 'tempo', 'duration_ms']\n"
     ]
    }
   ],
   "source": [
    "# Same as above, but excluding columns with data type 'object'\n",
    "categorical_features = (\n",
    "    spot_tracks.select_dtypes(exclude=[\"object\"])\n",
    "    .columns.tolist()\n",
    ")\n",
    "print(\"Categorical Features:\", categorical_features)"
   ]
  },
  {
   "cell_type": "markdown",
   "metadata": {},
   "source": [
    "### Are there any artists that have more than 1 popular track? If yes, which and how many?"
   ]
  },
  {
   "cell_type": "code",
   "execution_count": 18,
   "metadata": {},
   "outputs": [
    {
     "name": "stdout",
     "output_type": "stream",
     "text": [
      "Artists with more than one song:  artist\n",
      "Billie Eilish    3\n",
      "Dua Lipa         3\n",
      "Travis Scott     3\n",
      "Justin Bieber    2\n",
      "Harry Styles     2\n",
      "Lewis Capaldi    2\n",
      "Post Malone      2\n",
      "Name: count, dtype: int64\n",
      "Total of artists with more than 1 popular song:  7\n"
     ]
    }
   ],
   "source": [
    "songs_by_artist = spot_tracks.artist.value_counts()\n",
    "artists_with_multiple_songs = songs_by_artist[songs_by_artist > 1]\n",
    "print(\"Artists with more than one song: \", artists_with_multiple_songs)\n",
    "\n",
    "# Count the number of artists with more than one song\n",
    "num_artists_with_multiple_songs = len(artists_with_multiple_songs)\n",
    "print(\n",
    "    \"Total of artists with more than 1 popular song: \",\n",
    "    num_artists_with_multiple_songs\n",
    ")"
   ]
  },
  {
   "cell_type": "markdown",
   "metadata": {},
   "source": [
    "### Who was the most popular artist?"
   ]
  },
  {
   "cell_type": "code",
   "execution_count": 19,
   "metadata": {},
   "outputs": [
    {
     "name": "stdout",
     "output_type": "stream",
     "text": [
      "The most popular artist(s) are : artist\n",
      "Billie Eilish    3\n",
      "Dua Lipa         3\n",
      "Travis Scott     3\n",
      "Name: count, dtype: int64\n"
     ]
    }
   ],
   "source": [
    "songs_by_artist = spot_tracks.artist.value_counts()\n",
    "artists_with_multiple_songs = songs_by_artist[songs_by_artist > 2]\n",
    "print(\"The most popular artist(s) are :\", artists_with_multiple_songs)"
   ]
  },
  {
   "cell_type": "markdown",
   "metadata": {},
   "source": [
    "### How many artists in total have their songs in the top 50?"
   ]
  },
  {
   "cell_type": "code",
   "execution_count": 20,
   "metadata": {},
   "outputs": [
    {
     "name": "stdout",
     "output_type": "stream",
     "text": [
      "The total number of artists with songs in the top 50: 40\n"
     ]
    }
   ],
   "source": [
    "num_unique_artists = spot_tracks['artist'].nunique()\n",
    "print(\"The total number of artists with songs in the top 50:\",\n",
    "      num_unique_artists)"
   ]
  },
  {
   "cell_type": "markdown",
   "metadata": {},
   "source": [
    "### Are there any albums that have more than 1 popular track? If yes, which and how many?"
   ]
  },
  {
   "cell_type": "code",
   "execution_count": 21,
   "metadata": {},
   "outputs": [
    {
     "name": "stdout",
     "output_type": "stream",
     "text": [
      "Albums with more than one popular track:\n",
      "Album: Future Nostalgia, Number of popular tracks: 3\n",
      "Album: Hollywood's Bleeding, Number of popular tracks: 2\n",
      "Album: Fine Line, Number of popular tracks: 2\n",
      "Album: Changes, Number of popular tracks: 2\n"
     ]
    }
   ],
   "source": [
    "# Count the occurrences of each track in the dataset\n",
    "track_counts = spot_tracks['album'].value_counts()\n",
    "\n",
    "# Filter albums with more than one popular track\n",
    "popular_albums = track_counts[track_counts > 1]\n",
    "\n",
    "if not popular_albums.empty:\n",
    "    print(\"Albums with more than one popular track:\")\n",
    "    for album, count in popular_albums.items():\n",
    "        print(f\"Album: {album}, Number of popular tracks: {count}\")\n",
    "else:\n",
    "    print(\"No albums have more than one popular track.\")"
   ]
  },
  {
   "cell_type": "markdown",
   "metadata": {},
   "source": [
    "### How many albums in total have their songs in the top 50?"
   ]
  },
  {
   "cell_type": "code",
   "execution_count": 22,
   "metadata": {},
   "outputs": [
    {
     "name": "stdout",
     "output_type": "stream",
     "text": [
      "Total number of albums with songs in the top 50: 45\n"
     ]
    }
   ],
   "source": [
    "# nunique to return the unique number of albums\n",
    "total_albums = spot_tracks[\"album\"].nunique()\n",
    "\n",
    "print(\"Total number of albums with songs in the top 50:\", total_albums)"
   ]
  },
  {
   "cell_type": "markdown",
   "metadata": {},
   "source": [
    "### Which tracks have a danceability score above 0.7?"
   ]
  },
  {
   "cell_type": "code",
   "execution_count": 23,
   "metadata": {},
   "outputs": [
    {
     "name": "stdout",
     "output_type": "stream",
     "text": [
      "Tracks with danceability score above 0.7:\n",
      "                                       track_name  danceability\n",
      "1                                    Dance Monkey         0.825\n",
      "2                                         The Box         0.896\n",
      "3                           Roses - Imanbek Remix         0.785\n",
      "4                                 Don't Start Now         0.793\n",
      "5                    ROCKSTAR (feat. Roddy Ricch)         0.746\n",
      "7                death bed (coffee for your head)         0.726\n",
      "8                                         Falling         0.784\n",
      "10                                           Tusa         0.803\n",
      "13                                Blueberry Faygo         0.774\n",
      "14                       Intentions (feat. Quavo)         0.806\n",
      "15                                   Toosie Slide         0.830\n",
      "17                                         Say So         0.787\n",
      "18                                       Memories         0.764\n",
      "19                     Life Is Good (feat. Drake)         0.795\n",
      "20               Savage Love (Laxed - Siren Beat)         0.767\n",
      "22                                    Breaking Me         0.789\n",
      "24                            everything i wanted         0.704\n",
      "25                                       Señorita         0.759\n",
      "26                                        bad guy         0.701\n",
      "27                WAP (feat. Megan Thee Stallion)         0.935\n",
      "28                                    Sunday Best         0.878\n",
      "29                    Godzilla (feat. Juice WRLD)         0.808\n",
      "31                                 Break My Heart         0.730\n",
      "32                                       Dynamite         0.746\n",
      "33               Supalonely (feat. Gus Dapperton)         0.862\n",
      "37  Sunflower - Spider-Man: Into the Spider-Verse         0.755\n",
      "38                                          Hawái         0.783\n",
      "39                                        Ride It         0.880\n",
      "40                                     goosebumps         0.841\n",
      "41                      RITMO (Bad Boys For Life)         0.723\n",
      "42                                     THE SCOTTS         0.716\n",
      "49                                     SICKO MODE         0.834\n",
      "Number of tracks with danceability score above 0.7: 32\n"
     ]
    }
   ],
   "source": [
    "# Filter tracks with danceability score above 0.7\n",
    "high_danceability = spot_tracks[spot_tracks[\"danceability\"] > 0.7]\n",
    "\n",
    "# Print the tracks with danceability score above 0.7\n",
    "print(\"Tracks with danceability score above 0.7:\")\n",
    "print(high_danceability[[\"track_name\", \"danceability\"]])\n",
    "\n",
    "# Determine the number of tracks with danceability score above 0.7\n",
    "num_tracks_above_07 = len(high_danceability)\n",
    "\n",
    "# Print the number of tracks\n",
    "print(\"Number of tracks with danceability score above 0.7:\",\n",
    "      num_tracks_above_07)"
   ]
  },
  {
   "cell_type": "markdown",
   "metadata": {},
   "source": [
    "### Which tracks have a danceability score below 0.4?"
   ]
  },
  {
   "cell_type": "code",
   "execution_count": 24,
   "metadata": {},
   "outputs": [
    {
     "name": "stdout",
     "output_type": "stream",
     "text": [
      "Tracks with danceability score below 0.4:\n",
      "              track_name  danceability\n",
      "44  lovely (with Khalid)         0.351\n",
      "Number of tracks with danceability score below 0.4: 1\n"
     ]
    }
   ],
   "source": [
    "# Filter tracks with danceability score below 0.4\n",
    "low_danceability = spot_tracks[spot_tracks[\"danceability\"] < 0.4]\n",
    "\n",
    "# Print the tracks with danceability score below 0.4\n",
    "print(\"Tracks with danceability score below 0.4:\")\n",
    "print(low_danceability[[\"track_name\", \"danceability\"]])\n",
    "\n",
    "# Determine the number of tracks with danceability score below 0.4\n",
    "num_tracks_below_04 = len(low_danceability)\n",
    "\n",
    "# Print the number of tracks\n",
    "print(\"Number of tracks with danceability score below 0.4:\",\n",
    "      num_tracks_below_04)"
   ]
  },
  {
   "cell_type": "markdown",
   "metadata": {},
   "source": [
    "### Which tracks have their loudness above -5?"
   ]
  },
  {
   "cell_type": "code",
   "execution_count": 25,
   "metadata": {},
   "outputs": [
    {
     "name": "stdout",
     "output_type": "stream",
     "text": [
      "Tracks with loudness above -5:\n",
      "                                       track_name  loudness\n",
      "4                                 Don't Start Now    -4.521\n",
      "6                                Watermelon Sugar    -4.209\n",
      "10                                           Tusa    -3.280\n",
      "12                                        Circles    -3.497\n",
      "16                                  Before You Go    -4.858\n",
      "17                                         Say So    -4.577\n",
      "21                                      Adore You    -3.675\n",
      "23                         Mood (feat. iann dior)    -3.558\n",
      "31                                 Break My Heart    -3.434\n",
      "32                                       Dynamite    -4.410\n",
      "33               Supalonely (feat. Gus Dapperton)    -4.746\n",
      "35                Rain On Me (with Ariana Grande)    -3.764\n",
      "37  Sunflower - Spider-Man: Into the Spider-Verse    -4.368\n",
      "38                                          Hawái    -3.454\n",
      "39                                        Ride It    -4.258\n",
      "40                                     goosebumps    -3.370\n",
      "43                                        Safaera    -4.074\n",
      "48                                       Physical    -3.756\n",
      "49                                     SICKO MODE    -3.714\n",
      "Number of tracks with loudness above -5: 19\n"
     ]
    }
   ],
   "source": [
    "# Filter tracks with loudness above -5\n",
    "loudness_above = spot_tracks[spot_tracks[\"loudness\"] > -5]\n",
    "\n",
    "# Print the tracks with loudness above -5\n",
    "print(\"Tracks with loudness above -5:\")\n",
    "print(loudness_above[[\"track_name\", \"loudness\"]])\n",
    "\n",
    "# Determine the number of tracks with loudness above -5\n",
    "num_tracks_loudness_above = len(loudness_above)\n",
    "\n",
    "# Print the number of tracks\n",
    "print(\"Number of tracks with loudness above -5:\", num_tracks_loudness_above)"
   ]
  },
  {
   "cell_type": "markdown",
   "metadata": {},
   "source": [
    "### Which tracks have their loudness below -8?"
   ]
  },
  {
   "cell_type": "code",
   "execution_count": 26,
   "metadata": {},
   "outputs": [
    {
     "name": "stdout",
     "output_type": "stream",
     "text": [
      "Tracks with loudness below -8:\n",
      "                                        track_name  loudness\n",
      "7                 death bed (coffee for your head)    -8.765\n",
      "8                                          Falling    -8.756\n",
      "15                                    Toosie Slide    -8.820\n",
      "20                Savage Love (Laxed - Siren Beat)    -8.520\n",
      "24                             everything i wanted   -14.454\n",
      "26                                         bad guy   -10.965\n",
      "36                             HIGHEST IN THE ROOM    -8.764\n",
      "44                            lovely (with Khalid)   -10.109\n",
      "47  If the World Was Ending - feat. Julia Michaels   -10.086\n",
      "Number of tracks with loudness below -8: 9\n"
     ]
    }
   ],
   "source": [
    "# Filter tracks with loudness below -8\n",
    "loudness_below = spot_tracks[spot_tracks[\"loudness\"] < -8]\n",
    "\n",
    "# Print the tracks with loudness below -8\n",
    "print(\"Tracks with loudness below -8:\")\n",
    "print(loudness_below[[\"track_name\", \"loudness\"]])\n",
    "\n",
    "# Determine the number of tracks with loudness below -8\n",
    "num_tracks_loudness_below = len(loudness_below)\n",
    "\n",
    "# Print the number of tracks\n",
    "print(\"Number of tracks with loudness below -8:\", num_tracks_loudness_below)"
   ]
  },
  {
   "cell_type": "markdown",
   "metadata": {},
   "source": [
    "### Which track is the longest?"
   ]
  },
  {
   "cell_type": "code",
   "execution_count": 27,
   "metadata": {},
   "outputs": [
    {
     "name": "stdout",
     "output_type": "stream",
     "text": [
      "The longest track is:\n",
      "track_name     SICKO MODE\n",
      "duration_ms        312820\n",
      "Name: 49, dtype: object\n"
     ]
    }
   ],
   "source": [
    "# Find the index of the row with the maximum duration_ms\n",
    "longest_track_index = spot_tracks[\"duration_ms\"].idxmax()\n",
    "\n",
    "# Get the track information for the longest track\n",
    "longest_track_info = spot_tracks.loc[longest_track_index]\n",
    "\n",
    "print(\"The longest track is:\")\n",
    "print(longest_track_info[[\"track_name\", \"duration_ms\"]])"
   ]
  },
  {
   "cell_type": "markdown",
   "metadata": {},
   "source": [
    "### Which track is the shortest?"
   ]
  },
  {
   "cell_type": "code",
   "execution_count": 28,
   "metadata": {},
   "outputs": [
    {
     "name": "stdout",
     "output_type": "stream",
     "text": [
      "The shortestt track is:\n",
      "track_name     Mood (feat. iann dior)\n",
      "duration_ms                    140526\n",
      "Name: 23, dtype: object\n"
     ]
    }
   ],
   "source": [
    "# Find the index of the row with the maximum duration_ms\n",
    "shortest_track_index = spot_tracks[\"duration_ms\"].idxmin()\n",
    "\n",
    "# Get the track information for the longest track\n",
    "shortest_track_info = spot_tracks.loc[shortest_track_index]\n",
    "\n",
    "print(\"The shortestt track is:\")\n",
    "print(shortest_track_info[[\"track_name\", \"duration_ms\"]])"
   ]
  },
  {
   "cell_type": "markdown",
   "metadata": {},
   "source": [
    "### Which genre is the most popular?"
   ]
  },
  {
   "cell_type": "code",
   "execution_count": 29,
   "metadata": {},
   "outputs": [
    {
     "name": "stdout",
     "output_type": "stream",
     "text": [
      "genre\n",
      "Pop                                   14\n",
      "Hip-Hop/Rap                           13\n",
      "Dance/Electronic                       5\n",
      "Alternative/Indie                      4\n",
      "R&B/Soul                               2\n",
      " Electro-pop                           2\n",
      "Nu-disco                               1\n",
      "R&B/Hip-Hop alternative                1\n",
      "Pop/Soft Rock                          1\n",
      "Pop rap                                1\n",
      "Hip-Hop/Trap                           1\n",
      "Dance-pop/Disco                        1\n",
      "Disco-pop                              1\n",
      "Dreampop/Hip-Hop/R&B                   1\n",
      "Alternative/reggaeton/experimental     1\n",
      "Chamber pop                            1\n",
      "Name: count, dtype: int64\n",
      "The most popular genre is: Pop\n",
      "Number of occurrences: 14\n"
     ]
    }
   ],
   "source": [
    "# Count the occurrences of each genre\n",
    "genre_counts = spot_tracks[\"genre\"].value_counts()\n",
    "print(genre_counts)\n",
    "\n",
    "# Get the most popular genre\n",
    "most_popular_genre = genre_counts.idxmax()\n",
    "num_occurrences = genre_counts.max()\n",
    "\n",
    "print(\"The most popular genre is:\", most_popular_genre)\n",
    "print(\"Number of occurrences:\", num_occurrences)"
   ]
  },
  {
   "cell_type": "markdown",
   "metadata": {},
   "source": [
    "### Which genres have just one song on the top 50?"
   ]
  },
  {
   "cell_type": "code",
   "execution_count": 32,
   "metadata": {},
   "outputs": [
    {
     "name": "stdout",
     "output_type": "stream",
     "text": [
      "Genres with only one song in the top 50:\n",
      "genre\n",
      "Nu-disco                              1\n",
      "R&B/Hip-Hop alternative               1\n",
      "Pop/Soft Rock                         1\n",
      "Pop rap                               1\n",
      "Hip-Hop/Trap                          1\n",
      "Dance-pop/Disco                       1\n",
      "Disco-pop                             1\n",
      "Dreampop/Hip-Hop/R&B                  1\n",
      "Alternative/reggaeton/experimental    1\n",
      "Chamber pop                           1\n",
      "Name: count, dtype: int64\n"
     ]
    }
   ],
   "source": [
    "# Count the occurrences of each genre\n",
    "genre_counts = spot_tracks[\"genre\"].value_counts()\n",
    "\n",
    "# Filter out the genres with only one occurrence\n",
    "genres_with_one_song = genre_counts[genre_counts == 1]\n",
    "\n",
    "print(\"Genres with only one song in the top 50:\")\n",
    "print(genres_with_one_song)"
   ]
  },
  {
   "cell_type": "markdown",
   "metadata": {},
   "source": [
    "### How many genres in total are represented in the top 50?"
   ]
  },
  {
   "cell_type": "code",
   "execution_count": 30,
   "metadata": {},
   "outputs": [
    {
     "name": "stdout",
     "output_type": "stream",
     "text": [
      "Number of genres represented in the top 50: 16\n"
     ]
    }
   ],
   "source": [
    "# Count the number of unique genres\n",
    "num_unique_genres = spot_tracks[\"genre\"].nunique()\n",
    "\n",
    "print(\"Number of genres represented in the top 50:\", num_unique_genres)"
   ]
  },
  {
   "cell_type": "markdown",
   "metadata": {},
   "source": [
    "### Which features are strongly positively correlated?"
   ]
  },
  {
   "cell_type": "markdown",
   "metadata": {},
   "source": [
    "The correlation shows how each numeric feature correlates with every other numeric feature in the dataset.\n",
    "\n",
    "In this case, it was used the following criteria to identify positive and negative correlation:\n",
    "\n",
    "Perfect Positive Correlation (1): A correlation coefficient of 1 indicates a perfect positive linear relationship between two variables. This means that as one variable increases, the other variable also increases proportionally, and vice versa.\n",
    "\n",
    "Strong Positive Correlation (> 0.7): Typically, a correlation coefficient greater than 0.8 is considered a strong positive correlation. This suggests that there is a strong tendency for the two variables to move in the same direction, but it may not be a perfect linear relationship.\n",
    "\n",
    "Perfect Negative Correlation (-1): A correlation coefficient of -1 indicates a perfect negative linear relationship between two variables. This means that as one variable decreases, the other variable also decreases proportionally, and vice versa.\n",
    "\n",
    "Strong Negative Correlation (< -0.7): Correlation coefficients close to 0 indicate little to no linear relationship between the variables. However, it's important to note that lack of correlation does not imply lack of relationship. Non-linear relationships or other types of relationships may still exist.\n",
    "\n",
    "No Correlation (< 0.1): When the correlation coefficient is close to 0, it indicates that the variables do not have a linear relationship with each other.\n",
    "\n",
    "* In summary, it was considered that the strong correlation coefficient should be greater than 0.7 and less than 1(which is the perfect correlation) and less than -0.7 and greater than -1 (which is the perfect negative correlation)."
   ]
  },
  {
   "cell_type": "markdown",
   "metadata": {},
   "source": [
    "### The below chart was used to visualize the correlation between the features and to facilitate and support subsequent analysis"
   ]
  },
  {
   "cell_type": "markdown",
   "metadata": {},
   "source": [
    "Why I used seaborn heatmap to visualize the correlation between the features?\n",
    "\n",
    "I realized that visualizing the correlation matrix using a heatmap, is one of the best ways to analyze correlations between numerical variables in a dataset.\n",
    "\n",
    "Here's why I found it effective:\n",
    "\n",
    "Comprehensive Insight: A heatmap allows you to quickly visualize the entire correlation matrix at once, providing a comprehensive overview of the relationships between different variables.\n",
    "\n",
    "Color Gradient: The color gradient used in the heatmap provides an intuitive way to interpret the strength and direction of correlations. Positive correlations are often represented by warmer colors (e.g., red), while negative correlations are represented by cooler colors (e.g., blue)."
   ]
  },
  {
   "cell_type": "code",
   "execution_count": 31,
   "metadata": {},
   "outputs": [
    {
     "data": {
      "image/png": "[encoded data removed]",
      "text/plain": [
       "<Figure size 1000x800 with 2 Axes>"
      ]
     },
     "metadata": {},
     "output_type": "display_data"
    }
   ],
   "source": [
    "import seaborn as sns\n",
    "import matplotlib.pyplot as plt\n",
    "\n",
    "# Compute the correlation matrix\n",
    "numeric_df = spot_tracks.select_dtypes(include=[\"float64\", \"int64\"])\n",
    "correlation_matrix = numeric_df.corr()\n",
    "\n",
    "# Plot the heatmap\n",
    "plt.figure(figsize=(10, 8))\n",
    "sns.heatmap(correlation_matrix, annot=True, cmap=\"coolwarm\", fmt=\".2f\")\n",
    "plt.title(\"Correlation Matrix\")\n",
    "plt.show()"
   ]
  },
  {
   "cell_type": "markdown",
   "metadata": {},
   "source": [
    "To calculate the strong positive and negative correlation, the following analysis was performed:\n",
    "\n",
    "* It was considered that the strong correlation coefficient should be greater than 0.8 and less than 1(which is the perfect correlation) and less than -0.8 and greater than -1 (which is the perfect negative correlation).\n",
    "* A lambda function was used to select the correlation coefficients that meet the criteria, being:\n",
    "    * *correlation_matrix.index[i]* -> retrieves the label (or name) of the row corresponding to the i-th index;\n",
    "    * *correlation_matrix.columns[j]* -> retrieves the label (or name) of the column corresponding to the j-th index.\n",
    "    * *correlation_matrix.iloc[i, j]* -> is used to access the value of the correlation coefficient located at row i and column j.\n",
    "    * *for i, j in zip(indices[0], indices[1]):* -> zip(indices[0], indices[1]) creates pairs of values from the row and column indices obtained from indices[0] and indices[1] respectively. The for loop iterates over these pairs of indices.\n",
    "    * For each pair of indices (i, j), the list comprehension constructs a tuple (correlation_matrix.index[i], correlation_matrix.columns[j], correlation_matrix.iloc[i, j]). This tuple consists of the row label, column label, and the corresponding correlation coefficient."
   ]
  },
  {
   "cell_type": "code",
   "execution_count": 33,
   "metadata": {},
   "outputs": [
    {
     "name": "stdout",
     "output_type": "stream",
     "text": [
      "Strongly positively correlated features:\n",
      "[('energy', 'loudness', 0.79), ('loudness', 'energy', 0.79)]\n"
     ]
    }
   ],
   "source": [
    "import numpy as np\n",
    "\n",
    "# Compute the correlation matrix\n",
    "correlation_matrix = spot_tracks.select_dtypes(include=[\"float64\", \"int64\"]) \\\n",
    "    .corr()\n",
    "\n",
    "# Rounding correlation result to 2 decimals\n",
    "correlation_matrix_rounded = correlation_matrix.round(2)\n",
    "\n",
    "# Find the indices where correlation coefficients\n",
    "indices = np.nonzero((correlation_matrix > 0.7) & (correlation_matrix < 1))\n",
    "\n",
    "# Extract the indices and corresponding correlation coefficients\n",
    "strongly_positively_correlated = [\n",
    "    (\n",
    "        correlation_matrix.index[i],\n",
    "        correlation_matrix.columns[j],\n",
    "        correlation_matrix_rounded.iloc[i, j],\n",
    "    )\n",
    "    for i, j in zip(indices[0], indices[1])\n",
    "]\n",
    "\n",
    "print(\"Strongly positively correlated features:\")\n",
    "print(strongly_positively_correlated)"
   ]
  },
  {
   "cell_type": "markdown",
   "metadata": {},
   "source": [
    "### Which features are strongly negatively correlated?"
   ]
  },
  {
   "cell_type": "code",
   "execution_count": 34,
   "metadata": {},
   "outputs": [
    {
     "name": "stdout",
     "output_type": "stream",
     "text": [
      "Strongly negatively correlated features:\n",
      "[]\n"
     ]
    }
   ],
   "source": [
    "import numpy as np\n",
    "\n",
    "# Compute the correlation matrix\n",
    "correlation_matrix = spot_tracks.select_dtypes(include=[\"float64\", \"int64\"]) \\\n",
    "    .corr()\n",
    "\n",
    "# Rounding correlation result to 2 decimals\n",
    "correlation_matrix_rounded = correlation_matrix.round(2)\n",
    "\n",
    "# Find the indices where correlation coefficients\n",
    "indices = np.nonzero((correlation_matrix < -0.7) & (correlation_matrix > -1))\n",
    "\n",
    "# Extract the indices and corresponding correlation coefficients\n",
    "strongly_negatively_correlated = [\n",
    "    (\n",
    "        correlation_matrix.index[i],\n",
    "        correlation_matrix.columns[j],\n",
    "        correlation_matrix_rounded.iloc[i, j],\n",
    "    )\n",
    "    for i, j in zip(indices[0], indices[1])\n",
    "]\n",
    "\n",
    "print(\"Strongly negatively correlated features:\")\n",
    "print(strongly_negatively_correlated)"
   ]
  },
  {
   "cell_type": "markdown",
   "metadata": {},
   "source": [
    "### Which features are not correlated?"
   ]
  },
  {
   "cell_type": "markdown",
   "metadata": {},
   "source": [
    "For this analysis, the following criteria was used:\n",
    "* *correlation_matrix* variable -> to determine the correlation between the numeric features.\n",
    "* *uncorrelated_features* variable -> an empty list to store the names of features that are not correlated with any other features.\n",
    "* *for column in correlation_matrix.columns* -> iterates over each column in the correlation matrix.\n",
    "* *if all(abs(correlation_matrix[column]) < 0.1):* -> checks if the absolute value of the correlation coefficient between the current column and all other columns is less than 0.1. If this condition is true, the column is uncorrelated with all other columns.\n",
    "* *uncorrelated_features.append(column)* -> appends the name of the uncorrelated column to the list of uncorrelated features."
   ]
  },
  {
   "cell_type": "code",
   "execution_count": 36,
   "metadata": {},
   "outputs": [
    {
     "name": "stdout",
     "output_type": "stream",
     "text": [
      "Uncorrelated features:\n",
      "['energy', 'danceability', 'loudness', 'acousticness', 'speechiness', 'instrumentalness', 'liveness', 'valence', 'tempo', 'duration_ms']\n"
     ]
    }
   ],
   "source": [
    "# Compute the correlation matrix\n",
    "correlation_matrix = spot_tracks.select_dtypes(include=[\"float64\", \"int64\"]) \\\n",
    "    .corr()\n",
    "\n",
    "# Find features with correlation coefficients close to zero\n",
    "uncorrelated_features = []\n",
    "\n",
    "for column in correlation_matrix.columns:\n",
    "    # Check if the absolute correlation coefficient close to zero\n",
    "    if any(abs(correlation_matrix[column]) < 0.1):\n",
    "        uncorrelated_features.append(column)\n",
    "\n",
    "print(\"Uncorrelated features:\")\n",
    "print(uncorrelated_features)"
   ]
  },
  {
   "cell_type": "markdown",
   "metadata": {},
   "source": [
    "### How does the danceability score compare between Pop, Hip-Hop/Rap, Dance/Electronic, and Alternative/Indie genres?"
   ]
  },
  {
   "cell_type": "markdown",
   "metadata": {},
   "source": [
    "To compare the danceability score, the mean function was used, since it provides the average value for the danceability score for each genre. Mean refers to the arithmetic average of a set of numbers, which is the sum of the numbers divided by the quantity of numbers.\n",
    "\n",
    "Therefore, it is a method that can be used to compare the danceability score between the genres."
   ]
  },
  {
   "cell_type": "code",
   "execution_count": 37,
   "metadata": {},
   "outputs": [
    {
     "name": "stdout",
     "output_type": "stream",
     "text": [
      "Mean Danceability Score:\n",
      "Pop: 0.68\n",
      "Hip-Hop/Rap: 0.77\n",
      "Dance/Electronic: 0.76\n",
      "Alternative/Indie: 0.66\n"
     ]
    }
   ],
   "source": [
    "# Filter the DataFrame by genre\n",
    "pop_df = spot_tracks[spot_tracks[\"genre\"] == \"Pop\"]\n",
    "hiphop_df = spot_tracks[spot_tracks[\"genre\"] == \"Hip-Hop/Rap\"]\n",
    "dance_df = spot_tracks[spot_tracks[\"genre\"] == \"Dance/Electronic\"]\n",
    "indie_df = spot_tracks[spot_tracks[\"genre\"] == \"Alternative/Indie\"]\n",
    "\n",
    "# Compute the mean danceability score for each genre\n",
    "mean_danceability_pop = pop_df[\"danceability\"].mean().round(2)\n",
    "mean_danceability_hiphop = hiphop_df[\"danceability\"].mean().round(2)\n",
    "mean_danceability_dance = dance_df[\"danceability\"].mean().round(2)\n",
    "mean_danceability_indie = indie_df[\"danceability\"].mean().round(2)\n",
    "\n",
    "# Print the results\n",
    "print(\"Mean Danceability Score:\")\n",
    "print(\"Pop:\", mean_danceability_pop)\n",
    "print(\"Hip-Hop/Rap:\", mean_danceability_hiphop)\n",
    "print(\"Dance/Electronic:\", mean_danceability_dance)\n",
    "print(\"Alternative/Indie:\", mean_danceability_indie)"
   ]
  },
  {
   "cell_type": "markdown",
   "metadata": {},
   "source": [
    "### How does the loudness score compare between Pop, Hip-Hop/Rap, Dance/Electronic, and Alternative/Indie genres?"
   ]
  },
  {
   "cell_type": "markdown",
   "metadata": {},
   "source": [
    "As used previously, to compare the loudness score, the mean function was used, since it provides the average value for the loudness score for each genre.\n",
    "\n",
    "Therefore, it is a metric that can be used to compare the loudness score between the genres."
   ]
  },
  {
   "cell_type": "code",
   "execution_count": 38,
   "metadata": {},
   "outputs": [
    {
     "name": "stdout",
     "output_type": "stream",
     "text": [
      "Mean Loudness Score:\n",
      "Pop: -6.46\n",
      "Hip-Hop/Rap: -6.92\n",
      "Dance/Electronic: -5.34\n",
      "Alternative/Indie: -5.42\n"
     ]
    }
   ],
   "source": [
    "# Filter the DataFrame by genre\n",
    "pop_df = spot_tracks[spot_tracks[\"genre\"] == \"Pop\"]\n",
    "hiphop_df = spot_tracks[spot_tracks[\"genre\"] == \"Hip-Hop/Rap\"]\n",
    "dance_df = spot_tracks[spot_tracks[\"genre\"] == \"Dance/Electronic\"]\n",
    "indie_df = spot_tracks[spot_tracks[\"genre\"] == \"Alternative/Indie\"]\n",
    "\n",
    "# Compute the mean loudness score for each genre\n",
    "mean_loudness_pop = pop_df[\"loudness\"].mean().round(2)\n",
    "mean_loudness_hiphop = hiphop_df[\"loudness\"].mean().round(2)\n",
    "mean_loudness_dance = dance_df[\"loudness\"].mean().round(2)\n",
    "mean_loudness_indie = indie_df[\"loudness\"].mean().round(2)\n",
    "\n",
    "# Print the results\n",
    "print(\"Mean Loudness Score:\")\n",
    "print(\"Pop:\", mean_loudness_pop)\n",
    "print(\"Hip-Hop/Rap:\", mean_loudness_hiphop)\n",
    "print(\"Dance/Electronic:\", mean_loudness_dance)\n",
    "print(\"Alternative/Indie:\", mean_loudness_indie)"
   ]
  },
  {
   "cell_type": "markdown",
   "metadata": {},
   "source": [
    "### How does the acousticness score compare between Pop, Hip-Hop/Rap, Dance/Electronic, and Alternative/Indie genres?"
   ]
  },
  {
   "cell_type": "markdown",
   "metadata": {},
   "source": [
    "As used previously, to compare the accousticness score, the mean function was used, since it provides the average value for the accousticness score for each genre.\n",
    "\n",
    "Therefore, it is a metric that can be used to compare the accousticness score between the genres."
   ]
  },
  {
   "cell_type": "code",
   "execution_count": 39,
   "metadata": {},
   "outputs": [
    {
     "name": "stdout",
     "output_type": "stream",
     "text": [
      "Mean Acousticness Score:\n",
      "Pop: 0.32\n",
      "Hip-Hop/Rap: 0.19\n",
      "Dance/Electronic: 0.1\n",
      "Alternative/Indie: 0.58\n"
     ]
    }
   ],
   "source": [
    "# Filter the DataFrame by genre\n",
    "pop_df = spot_tracks[spot_tracks[\"genre\"] == \"Pop\"]\n",
    "hiphop_df = spot_tracks[spot_tracks[\"genre\"] == \"Hip-Hop/Rap\"]\n",
    "dance_df = spot_tracks[spot_tracks[\"genre\"] == \"Dance/Electronic\"]\n",
    "indie_df = spot_tracks[spot_tracks[\"genre\"] == \"Alternative/Indie\"]\n",
    "\n",
    "# Compute the mean acousticness score for each genre\n",
    "mean_acousticness_pop = pop_df[\"acousticness\"].mean().round(2)\n",
    "mean_acousticness_hiphop = hiphop_df[\"acousticness\"].mean().round(2)\n",
    "mean_acousticness_dance = dance_df[\"acousticness\"].mean().round(2)\n",
    "mean_acousticness_indie = indie_df[\"acousticness\"].mean().round(2)\n",
    "\n",
    "# Print the results\n",
    "print(\"Mean Acousticness Score:\")\n",
    "print(\"Pop:\", mean_acousticness_pop)\n",
    "print(\"Hip-Hop/Rap:\", mean_acousticness_hiphop)\n",
    "print(\"Dance/Electronic:\", mean_acousticness_dance)\n",
    "print(\"Alternative/Indie:\", mean_acousticness_indie)"
   ]
  },
  {
   "cell_type": "markdown",
   "metadata": {},
   "source": [
    "### Provide suggestions about how your analysis can be improved."
   ]
  },
  {
   "cell_type": "markdown",
   "metadata": {},
   "source": [
    "I believe in the general, the code can be more efficient and the analysis can be more detailed. For example, the analysis of the genres can be more detailed, showing the correlation between the genres and the features, and also the correlation between the genres and the artists.\n",
    "In general the code is very simple and can be improved in many ways, like using functions to avoid repetition of code, and also using more complex functions to analyze the data, but I think it is a good start to understand the dataset and the features."
   ]
  },
  {
   "cell_type": "markdown",
   "metadata": {},
   "source": [
    "### What advantages do NumPy arrays have over Python lists?\n",
    "\n",
    "* NumPy arrays are more memory efficient and faster compared to Python lists, especially for large datasets, due to memory efficiency, faster computations, and vectorized operations. Python lists are implemented as arrays of pointers to objects, which introduces overhead due to the need to store the pointers and the objects themselves, leading to higher memory consumption. NumPy arrays, on the other hand, are implemented as contiguous blocks of memory, which allows for more efficient storage and access to the data. Also Python lists require explicit looping to perform operations on each element, which can be slower compared to vectorized operations.\n",
    "\n",
    "* NumPy arrays can be multi-dimensional, allowing for efficient storage and manipulation of multi-dimensional data.\n",
    "\n",
    "* Mathematical functions and operations that can be applied directly to arrays, making numerical computations more convenient and efficient."
   ]
  },
  {
   "cell_type": "markdown",
   "metadata": {},
   "source": [
    "* Vectorized operations refer to the ability to perform operations on entire arrays of data, rather than on individual elements.\n",
    "\n",
    "    Please find below a brief example to ilustrate the concept above."
   ]
  },
  {
   "cell_type": "code",
   "execution_count": 42,
   "metadata": {},
   "outputs": [
    {
     "name": "stdout",
     "output_type": "stream",
     "text": [
      "[ 2  4  6  8 10]\n",
      "[11 12 13 14 15]\n",
      "[1.         1.41421356 1.73205081 2.         2.23606798]\n",
      "[False False False  True  True]\n"
     ]
    }
   ],
   "source": [
    "import numpy as np\n",
    "\n",
    "arr = np.array([1, 2, 3, 4, 5])\n",
    "\n",
    "# Scalar multiplication\n",
    "result_1 = arr * 2\n",
    "print(result_1)\n",
    "\n",
    "# Element-wise addition\n",
    "result_2 = arr + 10\n",
    "print(result_2)\n",
    "\n",
    "# Element-wise square root\n",
    "result_3 = np.sqrt(arr)\n",
    "print(result_3)\n",
    "\n",
    "# Element-wise comparison\n",
    "result_4 = arr > 3\n",
    "print(result_4)"
   ]
  },
  {
   "cell_type": "markdown",
   "metadata": {},
   "source": [
    "### What makes computation on NumPy arrays so fast?\n",
    "\n",
    "* NumPy arrays are implemented in C, which allows for faster execution compared to Python lists, which are interpreted.\n",
    "\n",
    "* NumPy arrays use contiguous blocks of memory, which enables efficient vectorized operations and reduces overhead (such as memory and processing time, required to manage and perform operations on arrays beyond the actual data itself.)"
   ]
  },
  {
   "cell_type": "markdown",
   "metadata": {},
   "source": [
    "### What are the rules of broadcasting?\n",
    "\n",
    "* Broadcasting is the term used to describe how NumPy handles operations between arrays with different shapes. The rules of broadcasting allow arrays with different shapes to be combined in arithmetic operations.\n",
    "* Broadcasting follows these rules:\n",
    "    * If the arrays have a different number of dimensions, the shape of the smaller array is padded with ones on the left until its shape matches the shape of the larger array.\n",
    "    * If the arrays have the same number of dimensions, but the shape of one dimension does not match, the array with shape equal to 1 in that dimension is stretched to match the shape of the other array.\n",
    "    * If the arrays have different shapes and neither array has a shape equal to 1 in any dimension, broadcasting is not possible and an error will be raised.\n",
    "\n",
    "Please, find below an example of the code used to ilustrate the questions above."
   ]
  },
  {
   "cell_type": "code",
   "execution_count": 40,
   "metadata": {},
   "outputs": [
    {
     "name": "stdout",
     "output_type": "stream",
     "text": [
      "Array 1:\n",
      "[[1 2 3]\n",
      " [4 5 6]]\n",
      "\n",
      "Array 2:\n",
      "[10 20 30]\n",
      "\n",
      "Result of Addition:\n",
      "[[11 22 33]\n",
      " [14 25 36]]\n"
     ]
    }
   ],
   "source": [
    "import numpy as np\n",
    "\n",
    "# Define two NumPy arrays with different shapes\n",
    "array1 = np.array([[1, 2, 3], [4, 5, 6]])  # Shape: (2, 3)\n",
    "array2 = np.array([10, 20, 30])  # Shape: (3,)\n",
    "\n",
    "# Perform element-wise addition using broadcasting\n",
    "result = array1 + array2\n",
    "\n",
    "print(\"Array 1:\")\n",
    "print(array1)\n",
    "print(\"\\nArray 2:\")\n",
    "print(array2)\n",
    "print(\"\\nResult of Addition:\")\n",
    "print(result)"
   ]
  },
  {
   "cell_type": "markdown",
   "metadata": {},
   "source": [
    "### What advantages do Pandas have over NumPy?\n",
    "\n",
    "* Pandas provides a DataFrame object, which is a labeled, two-dimensional data structure that can store data of different types in columns.\n",
    "\n",
    "* Pandas offers more flexibility and functionality for data manipulation and analysis compared to NumPy arrays, especially for tabular data.\n",
    "\n",
    "* Pandas provides powerful tools for handling missing data, time-series data, and performing data alignment and reshaping operations, such as isnull() and notnull(), dropna(), fillna(), resample(), concat(), merge() and other.\n",
    "\n",
    "* Pandas integrates seamlessly with other libraries in the Python data ecosystem, such as Matplotlib, Scikit-learn, and others."
   ]
  },
  {
   "cell_type": "markdown",
   "metadata": {},
   "source": [
    "### What is a DataFrame in Pandas?\n",
    "\n",
    "* A DataFrame is a primary data structure in Pandas, which represents tabular data with rows and columns.\n",
    "\n",
    "* It is a two-dimensional, size-mutable, and heterogeneous data structure, meaning it can contain data of different types.\n",
    "\n",
    "* Each column in a DataFrame is a Pandas Series, which is a one-dimensional labeled array.\n",
    "\n",
    "* DataFrames provide powerful methods and functions for data manipulation, cleaning, analysis, and visualization, such as head() and tail(), describe(), loc[] and iloc[], drop() and dropna(), drop_duplicates(), sum(), mean(), corr(), plot() and others.\n",
    "\n",
    "* DataFrames can be created from various data sources, including dictionaries, lists, NumPy arrays, CSV files, Excel files, databases, and more."
   ]
  }
 ],
 "metadata": {
  "kernelspec": {
   "display_name": ".dsvenv",
   "language": "python",
   "name": "python3"
  },
  "language_info": {
   "codemirror_mode": {
    "name": "ipython",
    "version": 3
   },
   "file_extension": ".py",
   "mimetype": "text/x-python",
   "name": "python",
   "nbconvert_exporter": "python",
   "pygments_lexer": "ipython3",
   "version": "3.8.10"
  }
 },
 "nbformat": 4,
 "nbformat_minor": 2
}
