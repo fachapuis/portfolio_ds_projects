{
 "cells": [
  {
   "cell_type": "markdown",
   "metadata": {},
   "source": [
    "# Table of Contents\n",
    "\n",
    "1. [Introduction](#introduction)\n",
    "2. [Notebook settings](#notebook-settings)\n",
    "3. [A/B Testing Goals](#ab-testing-goals)\n",
    "4. [Data Loading and Verification](#data-loading-and-verification)\n",
    "5. [EDA](#eda)\n",
    "   1. [Retention 1 Analysis](#retention-1-analysis)\n",
    "   2. [Retention 7 Analysis](#retention-7-analysis)\n",
    "6. [Decision Making](#decision-making)"
   ]
  },
  {
   "cell_type": "markdown",
   "metadata": {},
   "source": [
    "## Introduction\n",
    "Cookie Cat is a hugely popular mobile puzzle game developed by Tactile Entertainment.<br/>\n",
    "The goal for this project is to analyze the `Cookie Cats` dataset and apply A/B testing to check the player's engagement and see the retetion period effect compared for each level either `gate 30` or `gate 40` to conclude which is more effective.<br/> I will examine what happens when the first gate in the game was moved from level 30 to level 40. When a player installed the game, he or she was randomly assigned to either gate_30 or gate_40.\n",
    "\n",
    "The dataset contains the following columns:\n",
    "\n",
    "For the usage purposes and guidance, this project is structured as described below:\n",
    "|Columns|Description  | Datatypes       |  Count   |\n",
    "|--|--|--|--|\n",
    "| userid | A unique number that identifies each player | int64 | 90189  |\n",
    "| version | Whether the player was put in the control group (gate_30 - a gate at level 30) or the group with the moved gate (gate_40 - a gate at level 40) | object | 90189  |\n",
    "| sum_gamerounds | the number of game rounds played by the player during the first 14 days after install  | int64  | 90189  |\n",
    "| retention_1 | Did the player come back and play 1 day after installing? | bool  | 90189  |\n",
    "| retention_7 | Did the player come back and play 7 days after installing? | bool  | 90189  |\n"
   ]
  },
  {
   "cell_type": "markdown",
   "metadata": {},
   "source": [
    "## Notebook settings"
   ]
  },
  {
   "cell_type": "code",
   "execution_count": 1,
   "metadata": {},
   "outputs": [],
   "source": [
    "from assets.utils.functions import *"
   ]
  },
  {
   "cell_type": "code",
   "execution_count": 2,
   "metadata": {},
   "outputs": [],
   "source": [
    "%load_ext pycodestyle_magic\n",
    "#%reload_ext pycodestyle_magic\n",
    "%pycodestyle_on\n",
    "%flake8_on\n",
    "%flake8_on --max_line_length 79\n",
    "%matplotlib inline"
   ]
  },
  {
   "cell_type": "code",
   "execution_count": 3,
   "metadata": {},
   "outputs": [],
   "source": [
    "import pandas as pd\n",
    "import numpy as np\n",
    "import matplotlib.pyplot as plt\n",
    "import plotly.express as px\n",
    "import seaborn as sns\n",
    "from scipy import stats\n",
    "from scipy.stats import ttest_ind, chi2_contingency"
   ]
  },
  {
   "cell_type": "markdown",
   "metadata": {},
   "source": [
    "## A/B Testing Goals\n",
    "1. Goal and Context\n",
    "Objective: Check the player's engagement and see the retetion period effect compared for each level either `gate 30` or `gate 40` to conclude which is more effective.\n",
    "\n",
    "- Context:  When a player installed the game, he or she was randomly assigned to either gate_30 or gate_40. By analyzing this data, we aim to identify which strategy for placing the first gate is more effective in terms of player engagement and retention. \n",
    "  - Control group: The time gate is located at level 30. We are going to consider this one as a no-treatment group.\n",
    "  - Treatment group: The company plans to move the time gate to level 40.\n",
    "\n",
    "\n",
    "1. Target Metrics\n",
    "- `sum_gamerounds`: This metric represents the total number of game rounds played by a player after installing the game. It is a direct measure of player engagement, as higher values indicate that players are playing more rounds of the game, suggesting higher engagement.\n",
    "- `retention_1`: This boolean metric indicates whether a player came back to play the game 1 day after installing it. This is a short-term retention metric, useful for understanding initial player engagement and the immediate impact of the gate placement.\n",
    "- `retention_7`: Similar to retention_1, this boolean metric indicates whether a player returned to play the game 7 days after installing it. This is a long-term retention metric, providing insights into the sustained interest and engagement of players over a longer period."
   ]
  },
  {
   "cell_type": "markdown",
   "metadata": {},
   "source": [
    "## Data Loading and Verification"
   ]
  },
  {
   "cell_type": "code",
   "execution_count": 4,
   "metadata": {},
   "outputs": [
    {
     "data": {
      "text/html": [
       "<div>\n",
       "<style scoped>\n",
       "    .dataframe tbody tr th:only-of-type {\n",
       "        vertical-align: middle;\n",
       "    }\n",
       "\n",
       "    .dataframe tbody tr th {\n",
       "        vertical-align: top;\n",
       "    }\n",
       "\n",
       "    .dataframe thead th {\n",
       "        text-align: right;\n",
       "    }\n",
       "</style>\n",
       "<table border=\"1\" class=\"dataframe\">\n",
       "  <thead>\n",
       "    <tr style=\"text-align: right;\">\n",
       "      <th></th>\n",
       "      <th>userid</th>\n",
       "      <th>version</th>\n",
       "      <th>sum_gamerounds</th>\n",
       "      <th>retention_1</th>\n",
       "      <th>retention_7</th>\n",
       "    </tr>\n",
       "  </thead>\n",
       "  <tbody>\n",
       "    <tr>\n",
       "      <th>0</th>\n",
       "      <td>116</td>\n",
       "      <td>gate_30</td>\n",
       "      <td>3</td>\n",
       "      <td>False</td>\n",
       "      <td>False</td>\n",
       "    </tr>\n",
       "    <tr>\n",
       "      <th>1</th>\n",
       "      <td>337</td>\n",
       "      <td>gate_30</td>\n",
       "      <td>38</td>\n",
       "      <td>True</td>\n",
       "      <td>False</td>\n",
       "    </tr>\n",
       "    <tr>\n",
       "      <th>2</th>\n",
       "      <td>377</td>\n",
       "      <td>gate_40</td>\n",
       "      <td>165</td>\n",
       "      <td>True</td>\n",
       "      <td>False</td>\n",
       "    </tr>\n",
       "    <tr>\n",
       "      <th>3</th>\n",
       "      <td>483</td>\n",
       "      <td>gate_40</td>\n",
       "      <td>1</td>\n",
       "      <td>False</td>\n",
       "      <td>False</td>\n",
       "    </tr>\n",
       "    <tr>\n",
       "      <th>4</th>\n",
       "      <td>488</td>\n",
       "      <td>gate_40</td>\n",
       "      <td>179</td>\n",
       "      <td>True</td>\n",
       "      <td>True</td>\n",
       "    </tr>\n",
       "  </tbody>\n",
       "</table>\n",
       "</div>"
      ],
      "text/plain": [
       "   userid  version  sum_gamerounds  retention_1  retention_7\n",
       "0     116  gate_30               3        False        False\n",
       "1     337  gate_30              38         True        False\n",
       "2     377  gate_40             165         True        False\n",
       "3     483  gate_40               1        False        False\n",
       "4     488  gate_40             179         True         True"
      ]
     },
     "execution_count": 4,
     "metadata": {},
     "output_type": "execute_result"
    }
   ],
   "source": [
    "cocats_df = pd.read_csv(\"./assets/data/cookie_cats.csv\")\n",
    "cocats_df.head()"
   ]
  },
  {
   "cell_type": "code",
   "execution_count": 5,
   "metadata": {},
   "outputs": [
    {
     "name": "stdout",
     "output_type": "stream",
     "text": [
      "Missing Values:\n",
      "userid            0\n",
      "version           0\n",
      "sum_gamerounds    0\n",
      "retention_1       0\n",
      "retention_7       0\n",
      "dtype: int64\n",
      "\n",
      "Non-null Counts:\n",
      "userid            90189\n",
      "version           90189\n",
      "sum_gamerounds    90189\n",
      "retention_1       90189\n",
      "retention_7       90189\n",
      "dtype: int64\n",
      "\n",
      "Number of duplicate rows: 0\n"
     ]
    }
   ],
   "source": [
    "check_data_quality(cocats_df)"
   ]
  },
  {
   "cell_type": "code",
   "execution_count": 6,
   "metadata": {},
   "outputs": [
    {
     "name": "stdout",
     "output_type": "stream",
     "text": [
      "DataFrame Shape:\n",
      "(90189, 5)\n",
      "\n",
      "Column Names:\n",
      "Index(['userid', 'version', 'sum_gamerounds', 'retention_1', 'retention_7'], dtype='object')\n",
      "\n",
      "Data Types:\n",
      "userid             int64\n",
      "version           object\n",
      "sum_gamerounds     int64\n",
      "retention_1         bool\n",
      "retention_7         bool\n",
      "dtype: object\n",
      "\n",
      "Summary Stats:\n",
      "           userid  sum_gamerounds\n",
      "count    90189.00        90189.00\n",
      "mean   4998412.23           51.87\n",
      "std    2883285.61          195.05\n",
      "min        116.00            0.00\n",
      "25%    2512230.00            5.00\n",
      "50%    4995815.00           16.00\n",
      "75%    7496452.00           51.00\n",
      "max    9999861.00        49854.00\n"
     ]
    }
   ],
   "source": [
    "dataframe_info(cocats_df)"
   ]
  },
  {
   "cell_type": "code",
   "execution_count": 7,
   "metadata": {},
   "outputs": [
    {
     "name": "stdout",
     "output_type": "stream",
     "text": [
      "Unique values in column 'version':\n",
      "['gate_30' 'gate_40']\n"
     ]
    }
   ],
   "source": [
    "# Check uique values from object type columns\n",
    "check_unique_values(cocats_df, 'version')"
   ]
  },
  {
   "cell_type": "markdown",
   "metadata": {},
   "source": [
    "By looking to the `max` at the Summary Stats, we can see there is a total  of 49854 game rounds played by a user in 14 days. This is a very high number, and it is likely that this user is an outlier.<br/>So lets find the user and take a decision about what to do from here."
   ]
  },
  {
   "cell_type": "code",
   "execution_count": 8,
   "metadata": {},
   "outputs": [
    {
     "name": "stdout",
     "output_type": "stream",
     "text": [
      "User with sum_gamerounds = 49854: 6390605\n",
      "\n",
      "        userid  version  sum_gamerounds  retention_1  retention_7\n",
      "57702  6390605  gate_30           49854        False         True\n"
     ]
    }
   ],
   "source": [
    "# Find user with sum_gamerounds = 49854\n",
    "user_with_max_gamerounds = cocats_df[cocats_df[\n",
    "    'sum_gamerounds'] == 49854]['userid'].values[0]\n",
    "print(f\"User with sum_gamerounds = 49854: {user_with_max_gamerounds}\\n\")\n",
    "\n",
    "# Filter the DataFrame for rows where userid equals 6390605\n",
    "records_for_user = cocats_df.loc[cocats_df['userid'] == 6390605]\n",
    "\n",
    "# Print the filtered records\n",
    "print(records_for_user)"
   ]
  },
  {
   "cell_type": "markdown",
   "metadata": {},
   "source": [
    "To compare the above result with next max game rounds played below this outlier, I want to retrieve the 2nd highest game rounds played by a user in 14 days."
   ]
  },
  {
   "cell_type": "code",
   "execution_count": 9,
   "metadata": {},
   "outputs": [
    {
     "name": "stdout",
     "output_type": "stream",
     "text": [
      "The max game rounds without the outlier is: 2961\n"
     ]
    }
   ],
   "source": [
    "# Sort DF by 'sum_gamerounds'\n",
    "sorted_df = cocats_df.sort_values(by='sum_gamerounds')\n",
    "\n",
    "# Remove the last entry (outlier)\n",
    "sorted_df_without_outlier = sorted_df[:-1]\n",
    "\n",
    "# Maximum value of 'sum_gamerounds' - without the outlier\n",
    "new_max_sum_gamerounds = sorted_df_without_outlier['sum_gamerounds'].max()\n",
    "\n",
    "print(f\"The max game rounds without the outlier is: {new_max_sum_gamerounds}\")"
   ]
  },
  {
   "cell_type": "markdown",
   "metadata": {},
   "source": [
    "## Outlier Analysis Conclusion and Action Plan\n",
    "Since it is highly improbable that a user can play a game for 49854 rounds during a 14-day period, which would be 3561 rounds in a day, meaning 148 rounds per hour, considering this user would have to play for 24 hours straight, the only explanations for this situation are that the user is a \"bot,\" a \"bug,\" or a system failure.<br/> \n",
    "As we can see above, the highest number of game rounds a user plays within 14 days (below the outlier) is 2961, meaning approximately 212 rounds per day, leading to roughly 9 rounds per hour considering this user would have to play for 24 hours straight. Still high, but closest to reality.<br/>\n",
    "\n",
    "Therefore, we will remove this data point from the dataset before proceeding with the analysis."
   ]
  },
  {
   "cell_type": "code",
   "execution_count": 10,
   "metadata": {},
   "outputs": [],
   "source": [
    "cocats_df = cocats_df[cocats_df['sum_gamerounds'] < 49854]"
   ]
  },
  {
   "cell_type": "code",
   "execution_count": 11,
   "metadata": {},
   "outputs": [
    {
     "name": "stdout",
     "output_type": "stream",
     "text": [
      "DataFrame Shape:\n",
      "(90188, 5)\n",
      "\n",
      "Column Names:\n",
      "Index(['userid', 'version', 'sum_gamerounds', 'retention_1', 'retention_7'], dtype='object')\n",
      "\n",
      "Data Types:\n",
      "userid             int64\n",
      "version           object\n",
      "sum_gamerounds     int64\n",
      "retention_1         bool\n",
      "retention_7         bool\n",
      "dtype: object\n",
      "\n",
      "Summary Stats:\n",
      "           userid  sum_gamerounds\n",
      "count    90188.00        90188.00\n",
      "mean   4998396.80           51.32\n",
      "std    2883297.87          102.68\n",
      "min        116.00            0.00\n",
      "25%    2512211.25            5.00\n",
      "50%    4995804.00           16.00\n",
      "75%    7496460.75           51.00\n",
      "max    9999861.00         2961.00\n"
     ]
    }
   ],
   "source": [
    "dataframe_info(cocats_df)"
   ]
  },
  {
   "cell_type": "markdown",
   "metadata": {},
   "source": [
    "It looks the dataset is clean and ready to be used for analysis.<br/> The dataset contains 90188 rows (with outlier removed) and 5 columns. <br/>Also, it appears that the dataset contains no missing values, NaN's and no duplicates."
   ]
  },
  {
   "cell_type": "markdown",
   "metadata": {},
   "source": [
    "## EDA"
   ]
  },
  {
   "cell_type": "markdown",
   "metadata": {},
   "source": [
    "## Game Rounds Played Distribution"
   ]
  },
  {
   "cell_type": "code",
   "execution_count": 12,
   "metadata": {},
   "outputs": [
    {
     "data": {
      "image/png": "[encoded data removed]",
      "text/plain": [
       "<Figure size 1000x600 with 1 Axes>"
      ]
     },
     "metadata": {},
     "output_type": "display_data"
    }
   ],
   "source": [
    "# Assuming cocats_df is defined and contains 'sum_gamerounds'\n",
    "sum_gamerounds = pd.Series(cocats_df['sum_gamerounds'])\n",
    "\n",
    "plt.figure(figsize=(10, 6))\n",
    "plt.hist(cocats_df['sum_gamerounds'], bins=30, edgecolor='black')\n",
    "sns.kdeplot(sum_gamerounds.to_numpy(), color='red')\n",
    "\n",
    "plt.xlabel('Game Rounds Played')\n",
    "plt.ylabel('Frequency')\n",
    "plt.title('Game Rounds Played Distribution')\n",
    "plt.show()"
   ]
  },
  {
   "cell_type": "code",
   "execution_count": 13,
   "metadata": {},
   "outputs": [
    {
     "name": "stdout",
     "output_type": "stream",
     "text": [
      " As we see, 99.05% of our data is below 500 Game Rounds.\n",
      " The 95 percentile of the data is at: 221.0 Game Rounds. \n",
      " This means 85706 players are under this range.\n"
     ]
    }
   ],
   "source": [
    "analyze_game_rounds(cocats_df)"
   ]
  },
  {
   "cell_type": "code",
   "execution_count": 14,
   "metadata": {},
   "outputs": [
    {
     "name": "stdout",
     "output_type": "stream",
     "text": [
      "Total Players: 90188, without the outlier already removed.\n",
      "Total Inactive Players: 3994, with no rounds played.\n",
      "Total Active Players: 86194, with more than 1 rounds played.\n",
      "Average Game Rounds Played by Active Players: 53.70\n"
     ]
    }
   ],
   "source": [
    "summarize_player_activity(cocats_df)"
   ]
  },
  {
   "cell_type": "markdown",
   "metadata": {},
   "source": [
    "The amount of 85706 players can be seen as a god sample to work with, since we are aiming to compare the player engagement and retention for each level either `gate 30` or `gate 40` to conclude which is more effective."
   ]
  },
  {
   "cell_type": "code",
   "execution_count": 15,
   "metadata": {},
   "outputs": [
    {
     "data": {
      "text/plain": [
       "Text(0.5, 1.0, 'Game rounds played during first 14 days')"
      ]
     },
     "execution_count": 15,
     "metadata": {},
     "output_type": "execute_result"
    },
    {
     "data": {
      "image/png": "[encoded data removed]",
      "text/plain": [
       "<Figure size 1000x600 with 1 Axes>"
      ]
     },
     "metadata": {},
     "output_type": "display_data"
    }
   ],
   "source": [
    "# Plot distribution of game rounds\n",
    "df_plot = cocats_df.groupby('sum_gamerounds').count().reset_index()\n",
    "plt.figure(figsize=(10, 6))\n",
    "ax = sns.lineplot(x='sum_gamerounds', y='userid', data=df_plot.head(n=100))\n",
    "ax.set_xlabel('Number of game rounds')\n",
    "ax.set_ylabel('Number of players')\n",
    "ax.set_title('Game rounds played during first 14 days')"
   ]
  },
  {
   "cell_type": "markdown",
   "metadata": {},
   "source": [
    "We can see that the distribution of game rounds played by users is highly right-skewed, with most users playing fewer rounds and a few users playing a large number of rounds. This is expected in games, as most users may play a few rounds and then stop playing, while a few users may become highly engaged and play many rounds."
   ]
  },
  {
   "cell_type": "code",
   "execution_count": 16,
   "metadata": {},
   "outputs": [
    {
     "data": {
      "image/png": "[encoded data removed]",
      "text/plain": [
       "<Figure size 1800x500 with 3 Axes>"
      ]
     },
     "metadata": {},
     "output_type": "display_data"
    }
   ],
   "source": [
    "plot_game_data(cocats_df)"
   ]
  },
  {
   "cell_type": "markdown",
   "metadata": {},
   "source": [
    "As seen above, the average number of game rounds played by users is above 50 for both gate_30 and gate_40 groups. This suggests that, on average, users play more than 50 rounds of the game during the first 14 days after installing it. And by looking at the retention rates, we can see that the 1-day retention rate is around 44% for both groups, while the 7-day retention rate is around 19% for both groups. This indicates that a higher percentage of users return to play the game 1 day after installing it compared to 7 days after installing it.<br/>\n",
    "\n",
    "To get a better understanding of each retention period, we can deep dive into the retention rates for each group and compare them to see if there are any significant differences between the two groups and also perform bootstrap analysis to get a better understanding of the differences between the two groups."
   ]
  },
  {
   "cell_type": "markdown",
   "metadata": {},
   "source": [
    "## Retention 1 Analysis"
   ]
  },
  {
   "cell_type": "code",
   "execution_count": 17,
   "metadata": {},
   "outputs": [
    {
     "name": "stdout",
     "output_type": "stream",
     "text": [
      "The overall retention for 1 day(s) by version is:\n",
      "version\n",
      "gate_30    44.82%\n",
      "gate_40    44.23%\n",
      "Name: retention_1, dtype: object\n"
     ]
    }
   ],
   "source": [
    "percent_retention(cocats_df, 'retention_1')"
   ]
  },
  {
   "cell_type": "markdown",
   "metadata": {},
   "source": [
    "We can see that less than a half (50%) come back to play the game 1 day after installing it. This is a relatively low retention rate, indicating that many players do not return to play the game after the first day. This could be due to various factors, such as the game not being engaging enough, the player losing interest, or other reasons.<br/>\n",
    "\n",
    "Also, the output above shows there seems to be a slight drop in 1-day retention when comparing the gate 40 (44.23%) and gate 30 (44.82%). "
   ]
  },
  {
   "cell_type": "markdown",
   "metadata": {},
   "source": [
    "## Bootstrapping for 1-day Retention\n",
    "While the difference in 1-day retention between the two groups is small, it is important to determine whether this difference is statistically significant. To do this, we will use bootstrapping to simulate the sampling distribution of the difference in 1-day retention between the two groups and calculate the p-value."
   ]
  },
  {
   "cell_type": "code",
   "execution_count": 18,
   "metadata": {},
   "outputs": [
    {
     "name": "stdout",
     "output_type": "stream",
     "text": [
      "Mean retention: 0.44524557923448793\n",
      "95% confidence interval: [0.44207655 0.44847458]\n"
     ]
    }
   ],
   "source": [
    "# Bootstrap analysis for retention_1\n",
    "iterations = 10000  # Number of bootstrap samples\n",
    "bs_replicates = draw_bs_reps(df=cocats_df,\n",
    "                             column='retention_1',\n",
    "                             func=retention,\n",
    "                             iterations=iterations)\n",
    "\n",
    "# Stats on bs_replicates, such as the mean and confidence intervals\n",
    "mean_retention = np.mean(bs_replicates)\n",
    "conf_interval = np.percentile(bs_replicates, [2.5, 97.5])\n",
    "print(f\"Mean retention: {mean_retention}\")\n",
    "print(f\"95% confidence interval: {conf_interval}\")"
   ]
  },
  {
   "cell_type": "code",
   "execution_count": 19,
   "metadata": {},
   "outputs": [
    {
     "name": "stdout",
     "output_type": "stream",
     "text": [
      "T-statistic: 1.787115337299244\n",
      "P-value: 0.07392220630182518\n",
      "There is no statistically significant difference in retention rates between gate_30 and gate_40.\n"
     ]
    }
   ],
   "source": [
    "ttest_compare_retention(cocats_df, 'version', 'retention_1')"
   ]
  },
  {
   "cell_type": "markdown",
   "metadata": {},
   "source": [
    "## Conclusion Rentention 1 Analysis\n",
    "- Bootstrap Analysis: The mean retention rate derived from the bootstrap method is 44.52%, with a 95% confidence interval ranging from 44.20% to 44.84%.<br/> This confidence interval provides a range of plausible values for the true mean retention rate in the population, based on the sample data.\n",
    "\n",
    "- T-Test Results:\n",
    "\n",
    "  - T-Statistic: The t-statistic of 1.787 indicates the direction and magnitude of the difference between the two groups' mean retention rates, with a positive value suggesting that gate_30 has a higher mean retention rate than gate_40.<br/>\n",
    "  - P-Value: The p-value of 0.0739 exceeds the common alpha level of 0.05, which suggests that the observed difference in retention rates between gate_30 and gate_40 is not statistically significant at the 5% significance level.<br/>\n",
    "  \n",
    "### Conclusion:\n",
    " Although gate_30 shows a slightly higher retention rate than gate_40 after 1 day, the difference is not statistically significant. This means that, based on the data and analyses conducted, there is not enough evidence to conclude that the placement of the gate at level 30 or level 40 has a significant impact on player retention after 1 day. Decisions on gate placement should consider other factors as well, such as player engagement, progression speed, and overall game balance."
   ]
  },
  {
   "cell_type": "markdown",
   "metadata": {},
   "source": [
    "## Retention 7 Analysis"
   ]
  },
  {
   "cell_type": "code",
   "execution_count": 20,
   "metadata": {},
   "outputs": [
    {
     "name": "stdout",
     "output_type": "stream",
     "text": [
      "The overall retention for 7 day(s) by version is:\n",
      "version\n",
      "gate_30    19.02%\n",
      "gate_40     18.2%\n",
      "Name: retention_7, dtype: object\n"
     ]
    }
   ],
   "source": [
    "percent_retention(cocats_df, 'retention_7')"
   ]
  },
  {
   "cell_type": "markdown",
   "metadata": {},
   "source": [
    "The retention rate for users with gate_30 is 19.02%, compared to 18.2% for users with gate_40. This indicates that a slightly higher percentage of users continued to use the app after 7 days when the gate was placed at level 30 instead of level 40. <br/> WE can also see the difference is larger than retention 1."
   ]
  },
  {
   "cell_type": "markdown",
   "metadata": {},
   "source": [
    "## Bootstrapping for 7-day Retention\n",
    "While the difference in 7-day retention between the two groups is small, but larger than 1 day retention, it is important to determine whether this difference is statistically significant. I will also appply bootstrapping to simulate the sampling distribution of the difference in 7-day retention between the two groups and calculate the p-value."
   ]
  },
  {
   "cell_type": "code",
   "execution_count": 21,
   "metadata": {},
   "outputs": [
    {
     "name": "stdout",
     "output_type": "stream",
     "text": [
      "Mean retention: 0.18606312147957602\n",
      "95% confidence interval: [0.18350557 0.18862848]\n"
     ]
    }
   ],
   "source": [
    "# Bootstrap analysis for retention_7\n",
    "iterations = 10000  # Number of bootstrap samples\n",
    "bs_replicates = draw_bs_reps(df=cocats_df,\n",
    "                             column='retention_7',\n",
    "                             func=retention,\n",
    "                             iterations=iterations)\n",
    "\n",
    "# Stats on bs_replicates, such as the mean and confidence intervals\n",
    "mean_retention = np.mean(bs_replicates)\n",
    "conf_interval = np.percentile(bs_replicates, [2.5, 97.5])\n",
    "print(f\"Mean retention: {mean_retention}\")\n",
    "print(f\"95% confidence interval: {conf_interval}\")"
   ]
  },
  {
   "cell_type": "code",
   "execution_count": 22,
   "metadata": {},
   "outputs": [
    {
     "name": "stdout",
     "output_type": "stream",
     "text": [
      "T-statistic: 3.1575495965685936\n",
      "P-value: 0.001591535729785478\n",
      "There is a statistically significant difference in retention rates between gate_30 and gate_40.\n"
     ]
    }
   ],
   "source": [
    "ttest_compare_retention(cocats_df, 'version', 'retention_7')"
   ]
  },
  {
   "cell_type": "markdown",
   "metadata": {},
   "source": [
    "## Conclusion Rentention 7 Analysis\n",
    "- Bootstrap Analysis: The mean retention rate derived from the bootstrap method is 18.60%, with a 95% confidence interval ranging from 18.35% to 18.86%.<br/> Which means on average, about 18.60% of players continue to engage with the game 7 days after installation.\n",
    "\n",
    "- T-Test Results:\n",
    "\n",
    "  - T-Statistic: The t-statistic of 3.157 indicates the direction and magnitude of the difference between the two groups' mean retention rates, with a positive value suggesting that gate_30 has a higher mean retention rate than gate_40.<br/>\n",
    "  - P-Value: The p-value of 0.0016 is less than the commonly used significance level of 0.05, indicating that the observed difference in 7-day retention rates between the two versions is statistically significant.<br/>\n",
    "  \n",
    "### Conclusion:\n",
    " The analysis conclusively shows that there is a statistically significant difference in 7-day retention rates between gate_30 and gate_40. This suggests that the placement of the gate within the game has a significant impact on whether players continue to engage with the game a week after first playing it. Given the statistical significance, game developers should consider the placement of such gates carefully, as it can influence player retention."
   ]
  },
  {
   "cell_type": "markdown",
   "metadata": {},
   "source": [
    "## Decision Making\n",
    "Based on the comprehensive analysis of the data provided, we can draw several conclusions regarding the impact of gate placement (at level 30 vs. level 40) in the game on player retention rates at both 1-day and 7-day intervals.\n",
    "\n",
    "- Retention Rates:\n",
    "\n",
    "  - For the 1-day retention, the rates are 44.82% for gate_30 and 44.23% for gate_40. This difference is not statistically significant, as indicated by a p-value of 0.0739, suggesting that the gate placement does not significantly affect player retention after 1 day.<br/>\n",
    "  - For the 7-day retention, the rates are 19.02% for gate_30 and 18.2% for gate_40. The difference here is statistically significant, with a p-value of 0.0016, indicating that placing the gate at level 30 leads to slightly better retention after 7 days compared to placing it at level 40.<br/>\n",
    "  \n",
    "- Bootstrap Analysis:\n",
    "\n",
    "  - The bootstrap results for the mean retention and the 95% confidence intervals provide additional support to the findings from the t-tests. The confidence intervals do not overlap between the two versions for the 7-day retention rate, further confirming the statistical significance of the difference observed.<br/>\n",
    "  \n",
    "- Game Rounds Played:\n",
    "\n",
    "The analysis of game rounds played shows a wide distribution of player engagement, with a significant majority (99.05%) playing fewer than 500 rounds within the first 14 days.<br/> \n",
    "\n",
    "- Player Engagement:\n",
    "\n",
    "The data on total players, inactive players, and active players, along with the average game rounds played by active players, provides a broader context for understanding player engagement and retention. The high level of initial engagement (as indicated by the average game rounds played) contrasts with the drop in retention rates, highlighting the challenge of maintaining long-term engagement.<br/>\n",
    "\n",
    "\n",
    "- Overall Conclusion:<br/> \n",
    "  - The placement of the gate at level 30 appears to have a positive impact on player retention after 7 days, as opposed to placing it at level 40. However, the effect size is modest, and the decision on gate placement should also take into account other aspects of game design and player experience.<br/>"
   ]
  }
 ],
 "metadata": {
  "kernelspec": {
   "display_name": ".dsvenv",
   "language": "python",
   "name": "python3"
  },
  "language_info": {
   "codemirror_mode": {
    "name": "ipython",
    "version": 3
   },
   "file_extension": ".py",
   "mimetype": "text/x-python",
   "name": "python",
   "nbconvert_exporter": "python",
   "pygments_lexer": "ipython3",
   "version": "3.10.0"
  }
 },
 "nbformat": 4,
 "nbformat_minor": 2
}
